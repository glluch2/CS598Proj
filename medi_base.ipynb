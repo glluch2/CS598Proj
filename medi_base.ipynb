{
  "cells": [
    {
      "cell_type": "markdown",
      "metadata": {
        "id": "bmy2I6lqKhDW"
      },
      "source": [
        "## Import Libraries"
      ]
    },
    {
      "cell_type": "code",
      "execution_count": 1,
      "metadata": {
        "id": "PDBGr5NyKago"
      },
      "outputs": [],
      "source": [
        "import pandas as pd\n",
        "import numpy as np\n",
        "import matplotlib.pyplot as plt\n",
        "import seaborn as sns\n",
        "\n",
        "## For handling null values\n",
        "from sklearn.impute import SimpleImputer\n",
        "from scipy.stats import shapiro\n",
        "from scipy.stats import normaltest\n",
        "\n",
        "from sklearn.preprocessing import LabelEncoder, OneHotEncoder, StandardScaler\n",
        "from sklearn.model_selection import train_test_split, GridSearchCV, RandomizedSearchCV\n",
        "from sklearn.linear_model import LogisticRegression\n",
        "from sklearn.ensemble import RandomForestClassifier\n",
        "from sklearn.metrics import accuracy_score, precision_score, recall_score, f1_score, roc_auc_score\n",
        "from xgboost import XGBClassifier\n",
        "from lightgbm import LGBMClassifier\n",
        "from keras.models import Sequential\n",
        "from keras.layers import Dense, Dropout\n",
        "from sklearn.preprocessing import StandardScaler, OneHotEncoder\n",
        "from tensorflow.keras.layers import Input, Dense\n",
        "from tensorflow.keras.models import Model\n",
        "from tensorflow.keras.optimizers import Adam"
      ]
    },
    {
      "cell_type": "code",
      "source": [
        "from google.colab import drive\n",
        "drive.mount('/content/drive') \n",
        "\n",
        "directory = \"/content/drive/MyDrive/cs598project/data\""
      ],
      "metadata": {
        "colab": {
          "base_uri": "https://localhost:8080/"
        },
        "id": "_lfODhU2mrid",
        "outputId": "ac58289f-1e90-4864-90e8-0ac846ccede9"
      },
      "execution_count": 2,
      "outputs": [
        {
          "output_type": "stream",
          "name": "stdout",
          "text": [
            "Mounted at /content/drive\n"
          ]
        }
      ]
    },
    {
      "cell_type": "markdown",
      "metadata": {
        "id": "8PUIZ_OSKtVh"
      },
      "source": [
        "## load Data"
      ]
    },
    {
      "cell_type": "code",
      "execution_count": 3,
      "metadata": {
        "id": "SQKBmHT8KvGI"
      },
      "outputs": [],
      "source": [
        "df = pd.read_csv(f\"{directory}/processed/train_final.csv\", low_memory=False)"
      ]
    },
    {
      "cell_type": "markdown",
      "metadata": {
        "id": "37NLAmeRsYnn"
      },
      "source": [
        "## Number of Rows and Columns"
      ]
    },
    {
      "cell_type": "code",
      "execution_count": 4,
      "metadata": {
        "colab": {
          "base_uri": "https://localhost:8080/"
        },
        "id": "PHlBG70xsV54",
        "outputId": "95ed007a-3e76-4186-ca9b-693204b83c37"
      },
      "outputs": [
        {
          "output_type": "stream",
          "name": "stdout",
          "text": [
            "Number of Rows: 2470460\n",
            "Number of Columns: 75\n"
          ]
        }
      ],
      "source": [
        "## Dimensionlaity of the Model\n",
        "print(\"Number of Rows:\", df.shape[0])\n",
        "print(\"Number of Columns:\", df.shape[1])"
      ]
    },
    {
      "cell_type": "markdown",
      "metadata": {
        "id": "0Q6OKQ3oslRF"
      },
      "source": [
        "## Columns"
      ]
    },
    {
      "cell_type": "code",
      "execution_count": 5,
      "metadata": {
        "colab": {
          "base_uri": "https://localhost:8080/"
        },
        "id": "mXHRF9gZsmc2",
        "outputId": "70b0ea70-e488-4586-8506-91dd52676cce"
      },
      "outputs": [
        {
          "output_type": "execute_result",
          "data": {
            "text/plain": [
              "Index(['SUBJECT_ID', 'HADM_ID', 'ICUSTAY_ID', 'INSURANCE', 'GENDER',\n",
              "       'ETHNICITY', 'AGE', 'CHARTTIME', '51', '184', '211', '442', '454',\n",
              "       '455', '618', '723', '1352', '1495', '1524', '1880', '6701', '6754',\n",
              "       '8368', '8440', '8441', '8555', '220045', '220050', '220051', '220179',\n",
              "       '220180', '220181', '220210', '220274', '220603', '220734', '220739',\n",
              "       '223761', '223762', '223830', '223900', '223901', '224167', '224643',\n",
              "       '225309', '225310', '226707', '226755', '226756', '226757', '226758',\n",
              "       '227013', '227242', '227243', 'icd_0', 'icd_1', 'icd_2', 'icd_3',\n",
              "       'icd_4', 'icd_5', 'icd_6', 'icd_7', 'icd_8', 'icd_9', 'icd_10',\n",
              "       'icd_11', 'icd_12', 'icd_13', 'icd_14', 'icd_15', 'icd_16', 'icd_17',\n",
              "       'icd_18', 'icd_19', 'target'],\n",
              "      dtype='object')"
            ]
          },
          "metadata": {},
          "execution_count": 5
        }
      ],
      "source": [
        "df.columns"
      ]
    },
    {
      "cell_type": "markdown",
      "metadata": {
        "id": "MenCn06UKgR_"
      },
      "source": [
        "# Type of Columns"
      ]
    },
    {
      "cell_type": "code",
      "execution_count": 6,
      "metadata": {
        "colab": {
          "base_uri": "https://localhost:8080/"
        },
        "id": "G1ISmvrYKgSC",
        "outputId": "18248a9a-788a-4104-8b00-d0aea6adbb92",
        "scrolled": true
      },
      "outputs": [
        {
          "output_type": "execute_result",
          "data": {
            "text/plain": [
              "SUBJECT_ID      int64\n",
              "HADM_ID         int64\n",
              "ICUSTAY_ID      int64\n",
              "INSURANCE      object\n",
              "GENDER         object\n",
              "               ...   \n",
              "icd_16        float64\n",
              "icd_17        float64\n",
              "icd_18        float64\n",
              "icd_19        float64\n",
              "target          int64\n",
              "Length: 75, dtype: object"
            ]
          },
          "metadata": {},
          "execution_count": 6
        }
      ],
      "source": [
        "df.dtypes"
      ]
    },
    {
      "cell_type": "markdown",
      "metadata": {
        "id": "mtwMu7WfLbQZ"
      },
      "source": [
        "## Summary of Data"
      ]
    },
    {
      "cell_type": "code",
      "execution_count": 7,
      "metadata": {
        "colab": {
          "base_uri": "https://localhost:8080/",
          "height": 394
        },
        "id": "UFqBrQ6mNuVK",
        "outputId": "dfaca866-1169-4628-d250-496ff1a67521"
      },
      "outputs": [
        {
          "output_type": "execute_result",
          "data": {
            "text/plain": [
              "         SUBJECT_ID       HADM_ID    ICUSTAY_ID           AGE             51  \\\n",
              "count  2.470460e+06  2.470460e+06  2.470460e+06  2.470460e+06  415194.000000   \n",
              "mean   4.141820e+04  1.500102e+05  2.498828e+05  7.407056e+01     124.122038   \n",
              "std    2.978095e+04  2.885100e+04  2.903688e+04  5.359179e+01      24.616683   \n",
              "min    3.000000e+00  1.000010e+05  2.000010e+05  1.800000e+01       0.000000   \n",
              "25%    1.588100e+04  1.250850e+05  2.245550e+05  5.300000e+01     107.000000   \n",
              "50%    3.078900e+04  1.499890e+05  2.497670e+05  6.500000e+01     122.000000   \n",
              "75%    6.740800e+04  1.750280e+05  2.750460e+05  7.700000e+01     140.000000   \n",
              "max    9.999900e+04  1.999990e+05  2.999990e+05  3.100000e+02     298.000000   \n",
              "\n",
              "                 184           211         442            454            455  \\\n",
              "count  314262.000000  1.101587e+06  1115.00000  313099.000000  696849.000000   \n",
              "mean        3.749244  8.397330e+01   121.09930       5.801104     121.811305   \n",
              "std         0.652173  1.645516e+01    25.20646       0.764100      22.272913   \n",
              "min         1.000000  0.000000e+00     0.00000       1.000000       0.000000   \n",
              "25%         4.000000  7.200000e+01   105.00000       6.000000     106.000000   \n",
              "50%         4.000000  8.300000e+01   120.00000       6.000000     120.000000   \n",
              "75%         4.000000  9.400000e+01   136.00000       6.000000     136.000000   \n",
              "max         4.000000  2.400000e+02   240.00000       6.000000     274.000000   \n",
              "\n",
              "       ...        icd_11        icd_12        icd_13        icd_14  \\\n",
              "count  ...  2.470417e+06  2.470417e+06  2.470417e+06  2.470417e+06   \n",
              "mean   ...  1.258026e-01  2.193439e-01  3.800492e-02  2.833530e-05   \n",
              "std    ...  3.316269e-01  4.138022e-01  1.912082e-01  5.323017e-03   \n",
              "min    ...  0.000000e+00  0.000000e+00  0.000000e+00  0.000000e+00   \n",
              "25%    ...  0.000000e+00  0.000000e+00  0.000000e+00  0.000000e+00   \n",
              "50%    ...  0.000000e+00  0.000000e+00  0.000000e+00  0.000000e+00   \n",
              "75%    ...  0.000000e+00  0.000000e+00  0.000000e+00  0.000000e+00   \n",
              "max    ...  1.000000e+00  1.000000e+00  1.000000e+00  1.000000e+00   \n",
              "\n",
              "             icd_15        icd_16        icd_17        icd_18        icd_19  \\\n",
              "count  2.470417e+06  2.470417e+06  2.470417e+06  2.470417e+06  2.470417e+06   \n",
              "mean   4.034274e-01  4.543322e-01  5.598342e-01  3.624348e-01  1.258237e-01   \n",
              "std    4.905852e-01  4.979102e-01  4.964071e-01  4.807035e-01  3.316506e-01   \n",
              "min    0.000000e+00  0.000000e+00  0.000000e+00  0.000000e+00  0.000000e+00   \n",
              "25%    0.000000e+00  0.000000e+00  0.000000e+00  0.000000e+00  0.000000e+00   \n",
              "50%    0.000000e+00  0.000000e+00  1.000000e+00  0.000000e+00  0.000000e+00   \n",
              "75%    1.000000e+00  1.000000e+00  1.000000e+00  1.000000e+00  0.000000e+00   \n",
              "max    1.000000e+00  1.000000e+00  1.000000e+00  1.000000e+00  1.000000e+00   \n",
              "\n",
              "             target  \n",
              "count  2.470460e+06  \n",
              "mean   1.987994e-01  \n",
              "std    3.990968e-01  \n",
              "min    0.000000e+00  \n",
              "25%    0.000000e+00  \n",
              "50%    0.000000e+00  \n",
              "75%    0.000000e+00  \n",
              "max    1.000000e+00  \n",
              "\n",
              "[8 rows x 71 columns]"
            ],
            "text/html": [
              "\n",
              "  <div id=\"df-8abd157b-8edd-4247-b6c4-024a605bab21\">\n",
              "    <div class=\"colab-df-container\">\n",
              "      <div>\n",
              "<style scoped>\n",
              "    .dataframe tbody tr th:only-of-type {\n",
              "        vertical-align: middle;\n",
              "    }\n",
              "\n",
              "    .dataframe tbody tr th {\n",
              "        vertical-align: top;\n",
              "    }\n",
              "\n",
              "    .dataframe thead th {\n",
              "        text-align: right;\n",
              "    }\n",
              "</style>\n",
              "<table border=\"1\" class=\"dataframe\">\n",
              "  <thead>\n",
              "    <tr style=\"text-align: right;\">\n",
              "      <th></th>\n",
              "      <th>SUBJECT_ID</th>\n",
              "      <th>HADM_ID</th>\n",
              "      <th>ICUSTAY_ID</th>\n",
              "      <th>AGE</th>\n",
              "      <th>51</th>\n",
              "      <th>184</th>\n",
              "      <th>211</th>\n",
              "      <th>442</th>\n",
              "      <th>454</th>\n",
              "      <th>455</th>\n",
              "      <th>...</th>\n",
              "      <th>icd_11</th>\n",
              "      <th>icd_12</th>\n",
              "      <th>icd_13</th>\n",
              "      <th>icd_14</th>\n",
              "      <th>icd_15</th>\n",
              "      <th>icd_16</th>\n",
              "      <th>icd_17</th>\n",
              "      <th>icd_18</th>\n",
              "      <th>icd_19</th>\n",
              "      <th>target</th>\n",
              "    </tr>\n",
              "  </thead>\n",
              "  <tbody>\n",
              "    <tr>\n",
              "      <th>count</th>\n",
              "      <td>2.470460e+06</td>\n",
              "      <td>2.470460e+06</td>\n",
              "      <td>2.470460e+06</td>\n",
              "      <td>2.470460e+06</td>\n",
              "      <td>415194.000000</td>\n",
              "      <td>314262.000000</td>\n",
              "      <td>1.101587e+06</td>\n",
              "      <td>1115.00000</td>\n",
              "      <td>313099.000000</td>\n",
              "      <td>696849.000000</td>\n",
              "      <td>...</td>\n",
              "      <td>2.470417e+06</td>\n",
              "      <td>2.470417e+06</td>\n",
              "      <td>2.470417e+06</td>\n",
              "      <td>2.470417e+06</td>\n",
              "      <td>2.470417e+06</td>\n",
              "      <td>2.470417e+06</td>\n",
              "      <td>2.470417e+06</td>\n",
              "      <td>2.470417e+06</td>\n",
              "      <td>2.470417e+06</td>\n",
              "      <td>2.470460e+06</td>\n",
              "    </tr>\n",
              "    <tr>\n",
              "      <th>mean</th>\n",
              "      <td>4.141820e+04</td>\n",
              "      <td>1.500102e+05</td>\n",
              "      <td>2.498828e+05</td>\n",
              "      <td>7.407056e+01</td>\n",
              "      <td>124.122038</td>\n",
              "      <td>3.749244</td>\n",
              "      <td>8.397330e+01</td>\n",
              "      <td>121.09930</td>\n",
              "      <td>5.801104</td>\n",
              "      <td>121.811305</td>\n",
              "      <td>...</td>\n",
              "      <td>1.258026e-01</td>\n",
              "      <td>2.193439e-01</td>\n",
              "      <td>3.800492e-02</td>\n",
              "      <td>2.833530e-05</td>\n",
              "      <td>4.034274e-01</td>\n",
              "      <td>4.543322e-01</td>\n",
              "      <td>5.598342e-01</td>\n",
              "      <td>3.624348e-01</td>\n",
              "      <td>1.258237e-01</td>\n",
              "      <td>1.987994e-01</td>\n",
              "    </tr>\n",
              "    <tr>\n",
              "      <th>std</th>\n",
              "      <td>2.978095e+04</td>\n",
              "      <td>2.885100e+04</td>\n",
              "      <td>2.903688e+04</td>\n",
              "      <td>5.359179e+01</td>\n",
              "      <td>24.616683</td>\n",
              "      <td>0.652173</td>\n",
              "      <td>1.645516e+01</td>\n",
              "      <td>25.20646</td>\n",
              "      <td>0.764100</td>\n",
              "      <td>22.272913</td>\n",
              "      <td>...</td>\n",
              "      <td>3.316269e-01</td>\n",
              "      <td>4.138022e-01</td>\n",
              "      <td>1.912082e-01</td>\n",
              "      <td>5.323017e-03</td>\n",
              "      <td>4.905852e-01</td>\n",
              "      <td>4.979102e-01</td>\n",
              "      <td>4.964071e-01</td>\n",
              "      <td>4.807035e-01</td>\n",
              "      <td>3.316506e-01</td>\n",
              "      <td>3.990968e-01</td>\n",
              "    </tr>\n",
              "    <tr>\n",
              "      <th>min</th>\n",
              "      <td>3.000000e+00</td>\n",
              "      <td>1.000010e+05</td>\n",
              "      <td>2.000010e+05</td>\n",
              "      <td>1.800000e+01</td>\n",
              "      <td>0.000000</td>\n",
              "      <td>1.000000</td>\n",
              "      <td>0.000000e+00</td>\n",
              "      <td>0.00000</td>\n",
              "      <td>1.000000</td>\n",
              "      <td>0.000000</td>\n",
              "      <td>...</td>\n",
              "      <td>0.000000e+00</td>\n",
              "      <td>0.000000e+00</td>\n",
              "      <td>0.000000e+00</td>\n",
              "      <td>0.000000e+00</td>\n",
              "      <td>0.000000e+00</td>\n",
              "      <td>0.000000e+00</td>\n",
              "      <td>0.000000e+00</td>\n",
              "      <td>0.000000e+00</td>\n",
              "      <td>0.000000e+00</td>\n",
              "      <td>0.000000e+00</td>\n",
              "    </tr>\n",
              "    <tr>\n",
              "      <th>25%</th>\n",
              "      <td>1.588100e+04</td>\n",
              "      <td>1.250850e+05</td>\n",
              "      <td>2.245550e+05</td>\n",
              "      <td>5.300000e+01</td>\n",
              "      <td>107.000000</td>\n",
              "      <td>4.000000</td>\n",
              "      <td>7.200000e+01</td>\n",
              "      <td>105.00000</td>\n",
              "      <td>6.000000</td>\n",
              "      <td>106.000000</td>\n",
              "      <td>...</td>\n",
              "      <td>0.000000e+00</td>\n",
              "      <td>0.000000e+00</td>\n",
              "      <td>0.000000e+00</td>\n",
              "      <td>0.000000e+00</td>\n",
              "      <td>0.000000e+00</td>\n",
              "      <td>0.000000e+00</td>\n",
              "      <td>0.000000e+00</td>\n",
              "      <td>0.000000e+00</td>\n",
              "      <td>0.000000e+00</td>\n",
              "      <td>0.000000e+00</td>\n",
              "    </tr>\n",
              "    <tr>\n",
              "      <th>50%</th>\n",
              "      <td>3.078900e+04</td>\n",
              "      <td>1.499890e+05</td>\n",
              "      <td>2.497670e+05</td>\n",
              "      <td>6.500000e+01</td>\n",
              "      <td>122.000000</td>\n",
              "      <td>4.000000</td>\n",
              "      <td>8.300000e+01</td>\n",
              "      <td>120.00000</td>\n",
              "      <td>6.000000</td>\n",
              "      <td>120.000000</td>\n",
              "      <td>...</td>\n",
              "      <td>0.000000e+00</td>\n",
              "      <td>0.000000e+00</td>\n",
              "      <td>0.000000e+00</td>\n",
              "      <td>0.000000e+00</td>\n",
              "      <td>0.000000e+00</td>\n",
              "      <td>0.000000e+00</td>\n",
              "      <td>1.000000e+00</td>\n",
              "      <td>0.000000e+00</td>\n",
              "      <td>0.000000e+00</td>\n",
              "      <td>0.000000e+00</td>\n",
              "    </tr>\n",
              "    <tr>\n",
              "      <th>75%</th>\n",
              "      <td>6.740800e+04</td>\n",
              "      <td>1.750280e+05</td>\n",
              "      <td>2.750460e+05</td>\n",
              "      <td>7.700000e+01</td>\n",
              "      <td>140.000000</td>\n",
              "      <td>4.000000</td>\n",
              "      <td>9.400000e+01</td>\n",
              "      <td>136.00000</td>\n",
              "      <td>6.000000</td>\n",
              "      <td>136.000000</td>\n",
              "      <td>...</td>\n",
              "      <td>0.000000e+00</td>\n",
              "      <td>0.000000e+00</td>\n",
              "      <td>0.000000e+00</td>\n",
              "      <td>0.000000e+00</td>\n",
              "      <td>1.000000e+00</td>\n",
              "      <td>1.000000e+00</td>\n",
              "      <td>1.000000e+00</td>\n",
              "      <td>1.000000e+00</td>\n",
              "      <td>0.000000e+00</td>\n",
              "      <td>0.000000e+00</td>\n",
              "    </tr>\n",
              "    <tr>\n",
              "      <th>max</th>\n",
              "      <td>9.999900e+04</td>\n",
              "      <td>1.999990e+05</td>\n",
              "      <td>2.999990e+05</td>\n",
              "      <td>3.100000e+02</td>\n",
              "      <td>298.000000</td>\n",
              "      <td>4.000000</td>\n",
              "      <td>2.400000e+02</td>\n",
              "      <td>240.00000</td>\n",
              "      <td>6.000000</td>\n",
              "      <td>274.000000</td>\n",
              "      <td>...</td>\n",
              "      <td>1.000000e+00</td>\n",
              "      <td>1.000000e+00</td>\n",
              "      <td>1.000000e+00</td>\n",
              "      <td>1.000000e+00</td>\n",
              "      <td>1.000000e+00</td>\n",
              "      <td>1.000000e+00</td>\n",
              "      <td>1.000000e+00</td>\n",
              "      <td>1.000000e+00</td>\n",
              "      <td>1.000000e+00</td>\n",
              "      <td>1.000000e+00</td>\n",
              "    </tr>\n",
              "  </tbody>\n",
              "</table>\n",
              "<p>8 rows × 71 columns</p>\n",
              "</div>\n",
              "      <button class=\"colab-df-convert\" onclick=\"convertToInteractive('df-8abd157b-8edd-4247-b6c4-024a605bab21')\"\n",
              "              title=\"Convert this dataframe to an interactive table.\"\n",
              "              style=\"display:none;\">\n",
              "        \n",
              "  <svg xmlns=\"http://www.w3.org/2000/svg\" height=\"24px\"viewBox=\"0 0 24 24\"\n",
              "       width=\"24px\">\n",
              "    <path d=\"M0 0h24v24H0V0z\" fill=\"none\"/>\n",
              "    <path d=\"M18.56 5.44l.94 2.06.94-2.06 2.06-.94-2.06-.94-.94-2.06-.94 2.06-2.06.94zm-11 1L8.5 8.5l.94-2.06 2.06-.94-2.06-.94L8.5 2.5l-.94 2.06-2.06.94zm10 10l.94 2.06.94-2.06 2.06-.94-2.06-.94-.94-2.06-.94 2.06-2.06.94z\"/><path d=\"M17.41 7.96l-1.37-1.37c-.4-.4-.92-.59-1.43-.59-.52 0-1.04.2-1.43.59L10.3 9.45l-7.72 7.72c-.78.78-.78 2.05 0 2.83L4 21.41c.39.39.9.59 1.41.59.51 0 1.02-.2 1.41-.59l7.78-7.78 2.81-2.81c.8-.78.8-2.07 0-2.86zM5.41 20L4 18.59l7.72-7.72 1.47 1.35L5.41 20z\"/>\n",
              "  </svg>\n",
              "      </button>\n",
              "      \n",
              "  <style>\n",
              "    .colab-df-container {\n",
              "      display:flex;\n",
              "      flex-wrap:wrap;\n",
              "      gap: 12px;\n",
              "    }\n",
              "\n",
              "    .colab-df-convert {\n",
              "      background-color: #E8F0FE;\n",
              "      border: none;\n",
              "      border-radius: 50%;\n",
              "      cursor: pointer;\n",
              "      display: none;\n",
              "      fill: #1967D2;\n",
              "      height: 32px;\n",
              "      padding: 0 0 0 0;\n",
              "      width: 32px;\n",
              "    }\n",
              "\n",
              "    .colab-df-convert:hover {\n",
              "      background-color: #E2EBFA;\n",
              "      box-shadow: 0px 1px 2px rgba(60, 64, 67, 0.3), 0px 1px 3px 1px rgba(60, 64, 67, 0.15);\n",
              "      fill: #174EA6;\n",
              "    }\n",
              "\n",
              "    [theme=dark] .colab-df-convert {\n",
              "      background-color: #3B4455;\n",
              "      fill: #D2E3FC;\n",
              "    }\n",
              "\n",
              "    [theme=dark] .colab-df-convert:hover {\n",
              "      background-color: #434B5C;\n",
              "      box-shadow: 0px 1px 3px 1px rgba(0, 0, 0, 0.15);\n",
              "      filter: drop-shadow(0px 1px 2px rgba(0, 0, 0, 0.3));\n",
              "      fill: #FFFFFF;\n",
              "    }\n",
              "  </style>\n",
              "\n",
              "      <script>\n",
              "        const buttonEl =\n",
              "          document.querySelector('#df-8abd157b-8edd-4247-b6c4-024a605bab21 button.colab-df-convert');\n",
              "        buttonEl.style.display =\n",
              "          google.colab.kernel.accessAllowed ? 'block' : 'none';\n",
              "\n",
              "        async function convertToInteractive(key) {\n",
              "          const element = document.querySelector('#df-8abd157b-8edd-4247-b6c4-024a605bab21');\n",
              "          const dataTable =\n",
              "            await google.colab.kernel.invokeFunction('convertToInteractive',\n",
              "                                                     [key], {});\n",
              "          if (!dataTable) return;\n",
              "\n",
              "          const docLinkHtml = 'Like what you see? Visit the ' +\n",
              "            '<a target=\"_blank\" href=https://colab.research.google.com/notebooks/data_table.ipynb>data table notebook</a>'\n",
              "            + ' to learn more about interactive tables.';\n",
              "          element.innerHTML = '';\n",
              "          dataTable['output_type'] = 'display_data';\n",
              "          await google.colab.output.renderOutput(dataTable, element);\n",
              "          const docLink = document.createElement('div');\n",
              "          docLink.innerHTML = docLinkHtml;\n",
              "          element.appendChild(docLink);\n",
              "        }\n",
              "      </script>\n",
              "    </div>\n",
              "  </div>\n",
              "  "
            ]
          },
          "metadata": {},
          "execution_count": 7
        }
      ],
      "source": [
        "df.describe()"
      ]
    },
    {
      "cell_type": "markdown",
      "metadata": {
        "id": "X2cs6RVJSLmg"
      },
      "source": [
        "## Visulizing"
      ]
    },
    {
      "cell_type": "code",
      "execution_count": 8,
      "metadata": {
        "colab": {
          "base_uri": "https://localhost:8080/",
          "height": 522
        },
        "id": "KHsA3VCGsQcq",
        "outputId": "731c5ce7-a9e1-4d8f-90ee-f6efab5d4908"
      },
      "outputs": [
        {
          "output_type": "display_data",
          "data": {
            "text/plain": [
              "<Figure size 1000x600 with 1 Axes>"
            ],
            "image/png": "[encoded data removed]"
          },
          "metadata": {}
        }
      ],
      "source": [
        "#Using matplotlib\n",
        "pie, ax = plt.subplots(figsize=[10,6])\n",
        "plt.pie(x=df['target'].value_counts(), autopct=\"%.1f%%\", explode=[0.05]*2, labels=df['target'].value_counts().index, pctdistance=0.5)\n",
        "plt.title(\"ICU visit\", fontsize=14);\n",
        "plt.show()"
      ]
    },
    {
      "cell_type": "markdown",
      "metadata": {
        "id": "7oyyISLIJKQd"
      },
      "source": [
        "## Total Enticites "
      ]
    },
    {
      "cell_type": "code",
      "execution_count": 9,
      "metadata": {
        "colab": {
          "base_uri": "https://localhost:8080/",
          "height": 390
        },
        "id": "REB-TL5aJMH1",
        "outputId": "947e61a0-2009-4326-cddf-ba0a6be630a5"
      },
      "outputs": [
        {
          "output_type": "display_data",
          "data": {
            "text/plain": [
              "<Figure size 1200x600 with 1 Axes>"
            ],
            "image/png": "[encoded data removed]"
          },
          "metadata": {}
        }
      ],
      "source": [
        "sns.set_style(\"whitegrid\")\n",
        "bar,ax = plt.subplots(figsize=(12,6))\n",
        "ax = sns.barplot(x=df['ETHNICITY'].value_counts()[0:10], y=df['ETHNICITY'].value_counts().index[0:10], data=df, errorbar=None, palette=\"muted\")\n",
        "ax.set_title(\"Order Tupes\", fontsize=15)\n",
        "ax.set_xlabel (\"Count\")\n",
        "ax.set_ylabel (\"ETHNICITY\")\n",
        "for rect in ax.patches:\n",
        "    ax.text (rect.get_width(), rect.get_y() + rect.get_height() / 2,\"%.1f\"% rect.get_width(), weight='bold' )"
      ]
    },
    {
      "cell_type": "markdown",
      "metadata": {
        "id": "CEidt7YLS4fO"
      },
      "source": [
        "## Check any null data"
      ]
    },
    {
      "cell_type": "code",
      "execution_count": 10,
      "metadata": {
        "colab": {
          "base_uri": "https://localhost:8080/"
        },
        "id": "R9oSIvZSS7P9",
        "outputId": "5a64ab0b-47c4-48fa-9dca-d0bce39a6448"
      },
      "outputs": [
        {
          "output_type": "stream",
          "name": "stdout",
          "text": [
            "Column: 51, Null Rows: 2055266\n",
            "Column: 184, Null Rows: 2156198\n",
            "Column: 211, Null Rows: 1368873\n",
            "Column: 442, Null Rows: 2469345\n",
            "Column: 454, Null Rows: 2157361\n",
            "Column: 455, Null Rows: 1773611\n",
            "Column: 618, Null Rows: 1399052\n",
            "Column: 723, Null Rows: 2157688\n",
            "Column: 1352, Null Rows: 2470448\n",
            "Column: 1495, Null Rows: 2470428\n",
            "Column: 1524, Null Rows: 2469616\n",
            "Column: 1880, Null Rows: 2470439\n",
            "Column: 6701, Null Rows: 2466800\n",
            "Column: 6754, Null Rows: 2470447\n",
            "Column: 8368, Null Rows: 2055368\n",
            "Column: 8440, Null Rows: 2469370\n",
            "Column: 8441, Null Rows: 1774027\n",
            "Column: 8555, Null Rows: 2466800\n",
            "Column: 220045, Null Rows: 1406358\n",
            "Column: 220050, Null Rows: 2217115\n",
            "Column: 220051, Null Rows: 2217182\n",
            "Column: 220179, Null Rows: 1817304\n",
            "Column: 220180, Null Rows: 1817549\n",
            "Column: 220181, Null Rows: 1816299\n",
            "Column: 220210, Null Rows: 1415569\n",
            "Column: 220274, Null Rows: 2467379\n",
            "Column: 220603, Null Rows: 2469683\n",
            "Column: 220734, Null Rows: 2464808\n",
            "Column: 220739, Null Rows: 2243232\n",
            "Column: 223761, Null Rows: 2263850\n",
            "Column: 223762, Null Rows: 2444536\n",
            "Column: 223830, Null Rows: 2442723\n",
            "Column: 223900, Null Rows: 2243901\n",
            "Column: 223901, Null Rows: 2244006\n",
            "Column: 224167, Null Rows: 2470142\n",
            "Column: 224643, Null Rows: 2470162\n",
            "Column: 225309, Null Rows: 2454958\n",
            "Column: 225310, Null Rows: 2454971\n",
            "Column: 226707, Null Rows: 2464485\n",
            "Column: 226755, Null Rows: 2470457\n",
            "Column: 226756, Null Rows: 2470457\n",
            "Column: 226757, Null Rows: 2470457\n",
            "Column: 226758, Null Rows: 2470457\n",
            "Column: 227013, Null Rows: 2470459\n",
            "Column: 227242, Null Rows: 2470247\n",
            "Column: 227243, Null Rows: 2470237\n",
            "Column: icd_0, Null Rows: 43\n",
            "Column: icd_1, Null Rows: 43\n",
            "Column: icd_2, Null Rows: 43\n",
            "Column: icd_3, Null Rows: 43\n",
            "Column: icd_4, Null Rows: 43\n",
            "Column: icd_5, Null Rows: 43\n",
            "Column: icd_6, Null Rows: 43\n",
            "Column: icd_7, Null Rows: 43\n",
            "Column: icd_8, Null Rows: 43\n",
            "Column: icd_9, Null Rows: 43\n",
            "Column: icd_10, Null Rows: 43\n",
            "Column: icd_11, Null Rows: 43\n",
            "Column: icd_12, Null Rows: 43\n",
            "Column: icd_13, Null Rows: 43\n",
            "Column: icd_14, Null Rows: 43\n",
            "Column: icd_15, Null Rows: 43\n",
            "Column: icd_16, Null Rows: 43\n",
            "Column: icd_17, Null Rows: 43\n",
            "Column: icd_18, Null Rows: 43\n",
            "Column: icd_19, Null Rows: 43\n"
          ]
        }
      ],
      "source": [
        "# Iterate through each column\n",
        "for col in df.columns:\n",
        "    # Count number of NaN/None values\n",
        "    null_count = df[col].isnull().sum()\n",
        "    \n",
        "    # Print column name and number of NaN/None values\n",
        "    if null_count > 0:\n",
        "        print(f\"Column: {col}, Null Rows: {null_count}\")"
      ]
    },
    {
      "cell_type": "markdown",
      "metadata": {
        "id": "NDGwGmcxWDD_"
      },
      "source": [
        "## Handling Null Values"
      ]
    },
    {
      "cell_type": "code",
      "execution_count": 11,
      "metadata": {
        "id": "yboV7jwVWC8g"
      },
      "outputs": [],
      "source": [
        "def handle_missing_values(df, threshold, alpha=0.05):\n",
        "    # Calculate the total number of rows\n",
        "    num_rows = df.shape[0]\n",
        "\n",
        "    # Remove columns with a high percentage of missing values\n",
        "    for column in df.columns:\n",
        "        null_rows = df[column].isnull().sum()\n",
        "        if null_rows / num_rows > threshold:\n",
        "            df.drop(column, axis=1, inplace=True)\n",
        "\n",
        "    # Impute missing values for the remaining columns\n",
        "    for column in df.columns:\n",
        "        # Check if the column is numeric\n",
        "        if pd.api.types.is_numeric_dtype(df[column]):\n",
        "            # Check if the column is normally distributed\n",
        "            _, p_value = normaltest(df[column].dropna())\n",
        "            is_normal = p_value > alpha\n",
        "\n",
        "            if is_normal:\n",
        "                # Mean imputation for continuous variables with normal distribution\n",
        "                mean_imputer = SimpleImputer(strategy='mean')\n",
        "                df[column] = mean_imputer.fit_transform(df[column].values.reshape(-1, 1))\n",
        "            else:\n",
        "                # Median imputation for skewed variables\n",
        "                median_imputer = SimpleImputer(strategy='median')\n",
        "                df[column] = median_imputer.fit_transform(df[column].values.reshape(-1, 1))\n",
        "        else:\n",
        "            # Mode imputation for categorical variables\n",
        "            mode_imputer = SimpleImputer(strategy='most_frequent')\n",
        "            df[column] = mode_imputer.fit_transform(df[column].values.reshape(-1, 1))\n",
        "\n",
        "    return df\n",
        "\n",
        "threshold = 0.8\n",
        "df = handle_missing_values(df, threshold)"
      ]
    },
    {
      "cell_type": "markdown",
      "metadata": {
        "id": "ZEOmflSSXQx7"
      },
      "source": [
        "## Number of Rows and Columns after Handling null values"
      ]
    },
    {
      "cell_type": "code",
      "execution_count": 12,
      "metadata": {
        "colab": {
          "base_uri": "https://localhost:8080/"
        },
        "id": "nJyuGXEIXQx8",
        "outputId": "5d994ce0-54e3-4877-d283-f5a573afb73a"
      },
      "outputs": [
        {
          "output_type": "stream",
          "name": "stdout",
          "text": [
            "Number of Rows: 2470460\n",
            "Number of Columns: 38\n"
          ]
        }
      ],
      "source": [
        "## Dimensionlaity of the Model\n",
        "print(\"Number of Rows:\", df.shape[0])\n",
        "print(\"Number of Columns:\", df.shape[1])"
      ]
    },
    {
      "cell_type": "code",
      "execution_count": 13,
      "metadata": {
        "id": "xx3Xp4Zp7bfy"
      },
      "outputs": [],
      "source": [
        "# Add 'Feature_' before numeric column names\n",
        "numeric_columns = [211, 455, 618, 8441, 220045, 220179, 220180, 220181, 220210]\n",
        "new_column_names = {col: f'Feature_{col}' for col in numeric_columns}\n",
        "df.rename(columns=new_column_names, inplace=True)"
      ]
    },
    {
      "cell_type": "markdown",
      "metadata": {
        "id": "gzDFV0x-cl4u"
      },
      "source": [
        "## Dropping Unneccary column"
      ]
    },
    {
      "cell_type": "code",
      "execution_count": 15,
      "metadata": {
        "id": "ehSwW0NQcls_"
      },
      "outputs": [],
      "source": [
        "# Drop the 'Unnamed: 0' column\n",
        "df.drop(['SUBJECT_ID','HADM_ID','ICUSTAY_ID'], axis=1, inplace=True)"
      ]
    },
    {
      "cell_type": "markdown",
      "metadata": {
        "id": "u_DzmQ3F_g7O"
      },
      "source": [
        "## Applying One-Hot Encoder for Categoircal Features"
      ]
    },
    {
      "cell_type": "code",
      "execution_count": 16,
      "metadata": {
        "id": "tMpiu5Fu_mN7"
      },
      "outputs": [],
      "source": [
        "# Encode categorical variables\n",
        "encoder = OneHotEncoder()\n",
        "encoded_categorical = encoder.fit_transform(df[['INSURANCE', 'GENDER', 'ETHNICITY']])\n",
        "encoded_categorical_df = pd.DataFrame(encoded_categorical.toarray(), columns=encoder.get_feature_names_out(['INSURANCE', 'GENDER', 'ETHNICITY']))\n",
        "\n",
        "# Reset the index of both DataFrames to ensure proper concatenation\n",
        "df.reset_index(drop=True, inplace=True)\n",
        "encoded_categorical_df.reset_index(drop=True, inplace=True)\n",
        "\n",
        "# Concatenate the DataFrames\n",
        "df_encoded = pd.concat([df.drop(['INSURANCE', 'GENDER', 'ETHNICITY'], axis=1), encoded_categorical_df], axis=1)"
      ]
    },
    {
      "cell_type": "markdown",
      "metadata": {
        "id": "ViOSibhk_usA"
      },
      "source": [
        "# Handle date-time features\n"
      ]
    },
    {
      "cell_type": "code",
      "execution_count": 17,
      "metadata": {
        "id": "4DSiwk50_uMu"
      },
      "outputs": [],
      "source": [
        "df_encoded['CHARTTIME'] = pd.to_datetime(df_encoded['CHARTTIME'])\n",
        "df_encoded['charttime_day'] = df_encoded['CHARTTIME'].dt.day\n",
        "df_encoded['charttime_month'] = df_encoded['CHARTTIME'].dt.month\n",
        "df_encoded['charttime_year'] = df_encoded['CHARTTIME'].dt.year\n",
        "df_encoded.drop('CHARTTIME', axis=1, inplace=True)"
      ]
    },
    {
      "cell_type": "markdown",
      "metadata": {
        "id": "OZhWWSNDC--L"
      },
      "source": [
        "## Aggregate medical codes: You can create a count of unique ICD codes per patient by aggregating the icd_* columns."
      ]
    },
    {
      "cell_type": "code",
      "execution_count": 18,
      "metadata": {
        "id": "S06HeygnC_uk"
      },
      "outputs": [],
      "source": [
        "icd_columns = [col for col in df_encoded.columns if col.startswith('icd_')]\n",
        "df_encoded['unique_icd_count'] = df_encoded[icd_columns].nunique(axis=1)"
      ]
    },
    {
      "cell_type": "markdown",
      "metadata": {
        "id": "kApzbMewcqBS"
      },
      "source": [
        "## Final Data"
      ]
    },
    {
      "cell_type": "code",
      "execution_count": null,
      "metadata": {
        "id": "4IVaw7oc-XBy"
      },
      "outputs": [],
      "source": [
        "df_encoded.head()"
      ]
    },
    {
      "cell_type": "code",
      "execution_count": null,
      "metadata": {
        "id": "zwIXiq5gUt20"
      },
      "outputs": [],
      "source": [
        "# df_encoded.to_csv('data.csv',index=None)"
      ]
    },
    {
      "cell_type": "code",
      "execution_count": null,
      "metadata": {
        "id": "QVCFdEitU0Ok"
      },
      "outputs": [],
      "source": [
        "# df_encoded = pd.read_csv('/content/data.csv')"
      ]
    },
    {
      "cell_type": "markdown",
      "metadata": {
        "id": "r6lilT58Ig5j"
      },
      "source": [
        "## Feature Scaling\n"
      ]
    },
    {
      "cell_type": "code",
      "execution_count": 19,
      "metadata": {
        "id": "b-rQhlx0Ifpp"
      },
      "outputs": [],
      "source": [
        "scaler = StandardScaler()\n",
        "scaled_features = scaler.fit_transform(df_encoded.drop('target', axis=1))"
      ]
    },
    {
      "cell_type": "markdown",
      "metadata": {
        "id": "asFWCg2BIYeU"
      },
      "source": [
        "## Feature Decompostion"
      ]
    },
    {
      "cell_type": "code",
      "execution_count": 20,
      "metadata": {
        "id": "4s_uDgMjIkdH"
      },
      "outputs": [],
      "source": [
        "X_train, X_test, y_train, y_test = train_test_split(scaled_features, df_encoded['target'], test_size=0.2, random_state=42)"
      ]
    },
    {
      "cell_type": "markdown",
      "metadata": {
        "id": "7CuYrOOYIkVZ"
      },
      "source": [
        "## Feature Decomposition"
      ]
    },
    {
      "cell_type": "code",
      "execution_count": 21,
      "metadata": {
        "id": "0820K13CRF-y"
      },
      "outputs": [],
      "source": [
        "# Autoencoder architecture\n",
        "input_dim = X_train.shape[1]\n",
        "encoding_dim = 30  # Choose an appropriate value for the compressed representation\n",
        "\n",
        "# Encoder network\n",
        "input_layer = Input(shape=(input_dim,))\n",
        "encoder_layer = Dense(encoding_dim, activation='relu')(input_layer)\n",
        "\n",
        "# Decoder network\n",
        "decoder_layer = Dense(input_dim, activation='sigmoid')(encoder_layer)\n",
        "\n",
        "# Assemble the autoencoder\n",
        "autoencoder = Model(inputs=input_layer, outputs=decoder_layer)\n",
        "\n",
        "# Compile the autoencoder\n",
        "autoencoder.compile(optimizer=Adam(learning_rate=0.001), loss='mse')"
      ]
    },
    {
      "cell_type": "code",
      "execution_count": 22,
      "metadata": {
        "colab": {
          "base_uri": "https://localhost:8080/"
        },
        "id": "U6DiUpXoREw9",
        "outputId": "c775b4f0-8fab-4b07-cb33-77c8870b9c0c"
      },
      "outputs": [
        {
          "output_type": "stream",
          "name": "stdout",
          "text": [
            "Epoch 1/15\n",
            "30881/30881 [==============================] - 82s 2ms/step - loss: 0.7631 - val_loss: 0.7188\n",
            "Epoch 2/15\n",
            "30881/30881 [==============================] - 76s 2ms/step - loss: 0.7549 - val_loss: 0.7183\n",
            "Epoch 3/15\n",
            "30881/30881 [==============================] - 76s 2ms/step - loss: 0.7545 - val_loss: 0.7180\n",
            "Epoch 4/15\n",
            "30881/30881 [==============================] - 75s 2ms/step - loss: 0.7543 - val_loss: 0.7178\n",
            "Epoch 5/15\n",
            "30881/30881 [==============================] - 76s 2ms/step - loss: 0.7540 - val_loss: 0.7176\n",
            "Epoch 6/15\n",
            "30881/30881 [==============================] - 75s 2ms/step - loss: 0.7539 - val_loss: 0.7175\n",
            "Epoch 7/15\n",
            "30881/30881 [==============================] - 75s 2ms/step - loss: 0.7539 - val_loss: 0.7175\n",
            "Epoch 8/15\n",
            "30881/30881 [==============================] - 75s 2ms/step - loss: 0.7538 - val_loss: 0.7175\n",
            "Epoch 9/15\n",
            "30881/30881 [==============================] - 76s 2ms/step - loss: 0.7538 - val_loss: 0.7174\n",
            "Epoch 10/15\n",
            "30881/30881 [==============================] - 76s 2ms/step - loss: 0.7538 - val_loss: 0.7174\n",
            "Epoch 11/15\n",
            "30881/30881 [==============================] - 75s 2ms/step - loss: 0.7537 - val_loss: 0.7173\n",
            "Epoch 12/15\n",
            "30881/30881 [==============================] - 75s 2ms/step - loss: 0.7537 - val_loss: 0.7173\n",
            "Epoch 13/15\n",
            "30881/30881 [==============================] - 75s 2ms/step - loss: 0.7537 - val_loss: 0.7173\n",
            "Epoch 14/15\n",
            "30881/30881 [==============================] - 76s 2ms/step - loss: 0.7537 - val_loss: 0.7173\n",
            "Epoch 15/15\n",
            "30881/30881 [==============================] - 76s 2ms/step - loss: 0.7536 - val_loss: 0.7172\n"
          ]
        }
      ],
      "source": [
        "# Train the autoencoder\n",
        "history = autoencoder.fit(\n",
        "    X_train,\n",
        "    X_train,\n",
        "    epochs=15,\n",
        "    batch_size=64,\n",
        "    shuffle=True,\n",
        "    validation_data=(X_test, X_test),\n",
        "    verbose=1\n",
        ")\n",
        "\n",
        "# Extract the encoder part\n",
        "encoder = Model(inputs=input_layer, outputs=encoder_layer)"
      ]
    },
    {
      "cell_type": "code",
      "execution_count": 23,
      "metadata": {
        "colab": {
          "base_uri": "https://localhost:8080/"
        },
        "id": "vqWW6b47RSw2",
        "outputId": "293a2517-8b57-45fd-ebdc-fae27f88c09c"
      },
      "outputs": [
        {
          "output_type": "stream",
          "name": "stdout",
          "text": [
            "61762/61762 [==============================] - 61s 985us/step\n",
            "15441/15441 [==============================] - 15s 987us/step\n"
          ]
        }
      ],
      "source": [
        "# Transform the original data using the encoder\n",
        "X_trainsformed = encoder.predict(X_train)\n",
        "X_testsformed = encoder.predict(X_test)"
      ]
    },
    {
      "cell_type": "markdown",
      "metadata": {
        "id": "8a2HQaAE-0mz"
      },
      "source": [
        "## **Model Training**"
      ]
    },
    {
      "cell_type": "code",
      "execution_count": 24,
      "metadata": {
        "id": "qI52wih8ZwL9"
      },
      "outputs": [],
      "source": [
        "rf_clf = RandomForestClassifier(random_state=7)\n",
        "knn = LGBMClassifier()\n",
        "lr = LogisticRegression(random_state=7)"
      ]
    },
    {
      "cell_type": "markdown",
      "metadata": {
        "id": "BXaE1p2ppal-"
      },
      "source": [
        "## Train"
      ]
    },
    {
      "cell_type": "code",
      "execution_count": 25,
      "metadata": {
        "id": "sNW1KNyQaJoh"
      },
      "outputs": [],
      "source": [
        "from sklearn.ensemble import VotingClassifier \n",
        "\n",
        "estimators= [(\"rf\", rf_clf), (\"knn\", knn)]\n",
        "ensemble = VotingClassifier(estimators, voting = \"hard\")"
      ]
    },
    {
      "cell_type": "code",
      "execution_count": 26,
      "metadata": {
        "colab": {
          "base_uri": "https://localhost:8080/",
          "height": 75
        },
        "id": "SnnErPVe5qgB",
        "outputId": "89de5019-0773-427c-8f6f-ae72c0fa9be0"
      },
      "outputs": [
        {
          "output_type": "execute_result",
          "data": {
            "text/plain": [
              "LGBMClassifier()"
            ],
            "text/html": [
              "<style>#sk-container-id-1 {color: black;background-color: white;}#sk-container-id-1 pre{padding: 0;}#sk-container-id-1 div.sk-toggleable {background-color: white;}#sk-container-id-1 label.sk-toggleable__label {cursor: pointer;display: block;width: 100%;margin-bottom: 0;padding: 0.3em;box-sizing: border-box;text-align: center;}#sk-container-id-1 label.sk-toggleable__label-arrow:before {content: \"▸\";float: left;margin-right: 0.25em;color: #696969;}#sk-container-id-1 label.sk-toggleable__label-arrow:hover:before {color: black;}#sk-container-id-1 div.sk-estimator:hover label.sk-toggleable__label-arrow:before {color: black;}#sk-container-id-1 div.sk-toggleable__content {max-height: 0;max-width: 0;overflow: hidden;text-align: left;background-color: #f0f8ff;}#sk-container-id-1 div.sk-toggleable__content pre {margin: 0.2em;color: black;border-radius: 0.25em;background-color: #f0f8ff;}#sk-container-id-1 input.sk-toggleable__control:checked~div.sk-toggleable__content {max-height: 200px;max-width: 100%;overflow: auto;}#sk-container-id-1 input.sk-toggleable__control:checked~label.sk-toggleable__label-arrow:before {content: \"▾\";}#sk-container-id-1 div.sk-estimator input.sk-toggleable__control:checked~label.sk-toggleable__label {background-color: #d4ebff;}#sk-container-id-1 div.sk-label input.sk-toggleable__control:checked~label.sk-toggleable__label {background-color: #d4ebff;}#sk-container-id-1 input.sk-hidden--visually {border: 0;clip: rect(1px 1px 1px 1px);clip: rect(1px, 1px, 1px, 1px);height: 1px;margin: -1px;overflow: hidden;padding: 0;position: absolute;width: 1px;}#sk-container-id-1 div.sk-estimator {font-family: monospace;background-color: #f0f8ff;border: 1px dotted black;border-radius: 0.25em;box-sizing: border-box;margin-bottom: 0.5em;}#sk-container-id-1 div.sk-estimator:hover {background-color: #d4ebff;}#sk-container-id-1 div.sk-parallel-item::after {content: \"\";width: 100%;border-bottom: 1px solid gray;flex-grow: 1;}#sk-container-id-1 div.sk-label:hover label.sk-toggleable__label {background-color: #d4ebff;}#sk-container-id-1 div.sk-serial::before {content: \"\";position: absolute;border-left: 1px solid gray;box-sizing: border-box;top: 0;bottom: 0;left: 50%;z-index: 0;}#sk-container-id-1 div.sk-serial {display: flex;flex-direction: column;align-items: center;background-color: white;padding-right: 0.2em;padding-left: 0.2em;position: relative;}#sk-container-id-1 div.sk-item {position: relative;z-index: 1;}#sk-container-id-1 div.sk-parallel {display: flex;align-items: stretch;justify-content: center;background-color: white;position: relative;}#sk-container-id-1 div.sk-item::before, #sk-container-id-1 div.sk-parallel-item::before {content: \"\";position: absolute;border-left: 1px solid gray;box-sizing: border-box;top: 0;bottom: 0;left: 50%;z-index: -1;}#sk-container-id-1 div.sk-parallel-item {display: flex;flex-direction: column;z-index: 1;position: relative;background-color: white;}#sk-container-id-1 div.sk-parallel-item:first-child::after {align-self: flex-end;width: 50%;}#sk-container-id-1 div.sk-parallel-item:last-child::after {align-self: flex-start;width: 50%;}#sk-container-id-1 div.sk-parallel-item:only-child::after {width: 0;}#sk-container-id-1 div.sk-dashed-wrapped {border: 1px dashed gray;margin: 0 0.4em 0.5em 0.4em;box-sizing: border-box;padding-bottom: 0.4em;background-color: white;}#sk-container-id-1 div.sk-label label {font-family: monospace;font-weight: bold;display: inline-block;line-height: 1.2em;}#sk-container-id-1 div.sk-label-container {text-align: center;}#sk-container-id-1 div.sk-container {/* jupyter's `normalize.less` sets `[hidden] { display: none; }` but bootstrap.min.css set `[hidden] { display: none !important; }` so we also need the `!important` here to be able to override the default hidden behavior on the sphinx rendered scikit-learn.org. See: https://github.com/scikit-learn/scikit-learn/issues/21755 */display: inline-block !important;position: relative;}#sk-container-id-1 div.sk-text-repr-fallback {display: none;}</style><div id=\"sk-container-id-1\" class=\"sk-top-container\"><div class=\"sk-text-repr-fallback\"><pre>LGBMClassifier()</pre><b>In a Jupyter environment, please rerun this cell to show the HTML representation or trust the notebook. <br />On GitHub, the HTML representation is unable to render, please try loading this page with nbviewer.org.</b></div><div class=\"sk-container\" hidden><div class=\"sk-item\"><div class=\"sk-estimator sk-toggleable\"><input class=\"sk-toggleable__control sk-hidden--visually\" id=\"sk-estimator-id-1\" type=\"checkbox\" checked><label for=\"sk-estimator-id-1\" class=\"sk-toggleable__label sk-toggleable__label-arrow\">LGBMClassifier</label><div class=\"sk-toggleable__content\"><pre>LGBMClassifier()</pre></div></div></div></div></div>"
            ]
          },
          "metadata": {},
          "execution_count": 26
        }
      ],
      "source": [
        "knn.fit(X_trainsformed, y_train)"
      ]
    },
    {
      "cell_type": "markdown",
      "metadata": {
        "id": "oHvU0XUTAUvc"
      },
      "source": [
        "## Model Accuracy"
      ]
    },
    {
      "cell_type": "code",
      "execution_count": 27,
      "metadata": {
        "id": "IUo8fHc564Yh"
      },
      "outputs": [],
      "source": [
        "pred = knn.predict(X_testsformed)"
      ]
    },
    {
      "cell_type": "code",
      "execution_count": 28,
      "metadata": {
        "colab": {
          "base_uri": "https://localhost:8080/"
        },
        "id": "xJj2C7bB64Yi",
        "outputId": "3ced2f29-1c7c-48d6-ac14-ab5a693feaa1"
      },
      "outputs": [
        {
          "output_type": "stream",
          "name": "stdout",
          "text": [
            "Test score is: 83.07885980748524\n"
          ]
        }
      ],
      "source": [
        "print(\"Test score is:\",knn.score(X_testsformed,y_test)*100)"
      ]
    },
    {
      "cell_type": "code",
      "execution_count": 29,
      "metadata": {
        "id": "KBdcn6qipnmf"
      },
      "outputs": [],
      "source": [
        "import seaborn as sns\n",
        "import matplotlib.pyplot as plt"
      ]
    },
    {
      "cell_type": "code",
      "execution_count": 30,
      "metadata": {
        "id": "koxFI_GXjO3v"
      },
      "outputs": [],
      "source": [
        "from sklearn.metrics import classification_report, confusion_matrix, accuracy_score"
      ]
    },
    {
      "cell_type": "markdown",
      "metadata": {
        "id": "NTKzhYv-puLV"
      },
      "source": [
        "## Confusion Matrix"
      ]
    },
    {
      "cell_type": "code",
      "execution_count": 31,
      "metadata": {
        "colab": {
          "base_uri": "https://localhost:8080/",
          "height": 795
        },
        "id": "vEQHLKG6Bl2p",
        "outputId": "cab5648d-fe53-48cb-c2d5-dc0da2ed7b38"
      },
      "outputs": [
        {
          "output_type": "display_data",
          "data": {
            "text/plain": [
              "<Figure size 900x900 with 2 Axes>"
            ],
            "image/png": "[encoded data removed]"
          },
          "metadata": {}
        }
      ],
      "source": [
        "# Creating the confusion matrix:\n",
        "e_cm = confusion_matrix(y_test, pred)\n",
        "# Visualization:\n",
        "f, ax = plt.subplots(figsize=(9,9))\n",
        "sns.heatmap(e_cm, annot=True, linewidth=0.7, linecolor='cyan', fmt='.0f', ax=ax, cmap='Blues')\n",
        "plt.title('Ensamble Classification Confusion Matrix')\n",
        "plt.xlabel('y_pred')\n",
        "plt.ylabel('y_test')\n",
        "plt.show()"
      ]
    },
    {
      "cell_type": "markdown",
      "metadata": {
        "id": "5T0ZCOkDaD7m"
      },
      "source": [
        "## **Classification Report**\n",
        "\n",
        "It is an another method of evaluation which is used to find the precision recall and f1-score based on following formulas:\n",
        "\n",
        "![download (2).png](data:image/png;base64,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)"
      ]
    },
    {
      "cell_type": "code",
      "execution_count": 32,
      "metadata": {
        "colab": {
          "base_uri": "https://localhost:8080/"
        },
        "id": "Pc8VrD0AYXMt",
        "outputId": "fb28a56e-ca6d-429a-dcc1-d4fb74ff7cf5"
      },
      "outputs": [
        {
          "output_type": "stream",
          "name": "stdout",
          "text": [
            "              precision    recall  f1-score   support\n",
            "\n",
            "         0.0       0.83      0.99      0.90    396022\n",
            "         1.0       0.85      0.18      0.30     98070\n",
            "\n",
            "    accuracy                           0.83    494092\n",
            "   macro avg       0.84      0.59      0.60    494092\n",
            "weighted avg       0.83      0.83      0.78    494092\n",
            "\n"
          ]
        }
      ],
      "source": [
        "print(classification_report(y_test, pred))"
      ]
    }
  ],
  "metadata": {
    "accelerator": "GPU",
    "colab": {
      "provenance": [],
      "machine_shape": "hm",
      "gpuType": "A100"
    },
    "gpuClass": "standard",
    "kernelspec": {
      "display_name": "Python 3",
      "name": "python3"
    },
    "language_info": {
      "name": "python"
    }
  },
  "nbformat": 4,
  "nbformat_minor": 0
}