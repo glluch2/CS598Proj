{
  "cells": [
    {
      "cell_type": "code",
      "execution_count": null,
      "metadata": {
        "id": "fj_h7gxxsXCX"
      },
      "outputs": [],
      "source": [
        "import pandas"
      ]
    },
    {
      "cell_type": "code",
      "execution_count": null,
      "metadata": {
        "colab": {
          "base_uri": "https://localhost:8080/"
        },
        "id": "QoMFLmXfrJGJ",
        "outputId": "d1cf28ec-eb79-4cf1-cb0d-f52477917651"
      },
      "outputs": [
        {
          "output_type": "stream",
          "name": "stdout",
          "text": [
            "Mounted at /content/drive\n"
          ]
        }
      ],
      "source": [
        "from google.colab import drive\n",
        "drive.mount('/content/drive') \n",
        "\n",
        "directory = \"/content/drive/MyDrive/cs598project/data\""
      ]
    },
    {
      "cell_type": "code",
      "source": [
        "# FILTER PATIENTS UNDER 18\n",
        "from tables.description import Time32Col\n",
        "from dateutil.relativedelta import relativedelta\n",
        "def filter_age(data):\n",
        "    data['AGE'] = data.apply(\n",
        "        lambda row: relativedelta(row['ADMITTIME'], row['DOB']).years, axis=1\n",
        "        )\n",
        "\n",
        "    data = data[data['AGE'] >= 18]\n",
        "    return data"
      ],
      "metadata": {
        "id": "dtL0-vqwr7qW"
      },
      "execution_count": null,
      "outputs": []
    },
    {
      "cell_type": "code",
      "source": [
        "# FILTER ROWS WHERE PATIENT DIED INSIDE ICU \n",
        "def filter_death_in_icu(data): \n",
        "    survived_icu = data[\n",
        "        ~( \n",
        "    (data['DEATHTIME'] >= data['INTIME']) &\n",
        "    (data['DEATHTIME'] <= data['OUTTIME'])) \n",
        "    ]\n",
        "    return survived_icu\n"
      ],
      "metadata": {
        "id": "DQnJUjl9sFgN"
      },
      "execution_count": null,
      "outputs": []
    },
    {
      "cell_type": "code",
      "execution_count": null,
      "metadata": {
        "colab": {
          "base_uri": "https://localhost:8080/"
        },
        "id": "paFNBT9JsWEQ",
        "outputId": "834f8b72-03ff-45a5-bbf1-af38b6dfff78"
      },
      "outputs": [
        {
          "output_type": "stream",
          "name": "stdout",
          "text": [
            "ADMISSIONS: Index(['ROW_ID', 'SUBJECT_ID', 'HADM_ID', 'ADMITTIME', 'DISCHTIME',\n",
            "       'DEATHTIME', 'ADMISSION_TYPE', 'ADMISSION_LOCATION',\n",
            "       'DISCHARGE_LOCATION', 'INSURANCE', 'LANGUAGE', 'RELIGION',\n",
            "       'MARITAL_STATUS', 'ETHNICITY', 'EDREGTIME', 'EDOUTTIME', 'DIAGNOSIS',\n",
            "       'HOSPITAL_EXPIRE_FLAG', 'HAS_CHARTEVENTS_DATA'],\n",
            "      dtype='object')\n",
            "PATIENTS: Index(['ROW_ID', 'SUBJECT_ID', 'GENDER', 'DOB', 'DOD', 'DOD_HOSP', 'DOD_SSN',\n",
            "       'EXPIRE_FLAG'],\n",
            "      dtype='object')\n",
            "ICU_STAYS: Index(['ROW_ID', 'SUBJECT_ID', 'HADM_ID', 'ICUSTAY_ID', 'DBSOURCE',\n",
            "       'FIRST_CAREUNIT', 'LAST_CAREUNIT', 'FIRST_WARDID', 'LAST_WARDID',\n",
            "       'INTIME', 'OUTTIME', 'LOS'],\n",
            "      dtype='object')\n",
            "TRANSFERS: Index(['ROW_ID', 'SUBJECT_ID', 'HADM_ID', 'ICUSTAY_ID', 'DBSOURCE',\n",
            "       'EVENTTYPE', 'PREV_CAREUNIT', 'CURR_CAREUNIT', 'PREV_WARDID',\n",
            "       'CURR_WARDID', 'INTIME', 'OUTTIME', 'LOS'],\n",
            "      dtype='object')\n"
          ]
        }
      ],
      "source": [
        "admissions = pandas.read_csv(f\"{directory}/ADMISSIONS.csv\")\n",
        "patients = pandas.read_csv(f\"{directory}/PATIENTS.csv\")\n",
        "icu_stays = pandas.read_csv(f\"{directory}/ICUSTAYS.csv\")\n",
        "transfers = pandas.read_csv(f\"{directory}/TRANSFERS.csv\")\n",
        "\n",
        "print('ADMISSIONS:', admissions.columns)\n",
        "print('PATIENTS:', patients.columns)\n",
        "print('ICU_STAYS:', icu_stays.columns)\n",
        "print('TRANSFERS:', transfers.columns)\n",
        "\n",
        "# Datetime conversion\n",
        "transfers['INTIME'] = pandas.to_datetime(transfers['INTIME'])\n",
        "transfers['OUTTIME'] = pandas.to_datetime(transfers['OUTTIME'])\n",
        "admissions['DISCHTIME'] = pandas.to_datetime(admissions['DISCHTIME'])\n",
        "admissions['ADMITTIME'] = pandas.to_datetime(admissions['ADMITTIME'])\n",
        "admissions['DEATHTIME'] = pandas.to_datetime(admissions['DEATHTIME'])\n",
        "icu_stays['INTIME'] = pandas.to_datetime(icu_stays['INTIME'])\n",
        "icu_stays['OUTTIME'] = pandas.to_datetime(icu_stays['OUTTIME'])\n",
        "patients['DOB'] = pandas.to_datetime(patients['DOB'])\n",
        "patients['DOD'] = pandas.to_datetime(patients['DOD'])"
      ]
    },
    {
      "cell_type": "code",
      "source": [
        "# Join tables of interest to allow for target assignment to ICU cases\n",
        "# Apply filters described in paper\n",
        "\n",
        "print('ICU pre filters: ', icu_stays.shape[0])\n",
        "\n",
        "patient_admissions = patients.merge(admissions, how='inner', on='SUBJECT_ID', suffixes=('', '_adm'))\n",
        "df = filter_age(patient_admissions)\n",
        "\n",
        "icu_stays = icu_stays[icu_stays['SUBJECT_ID'].isin(df['SUBJECT_ID'])]\n",
        "\n",
        "df = df.merge(icu_stays, how='inner', on=['SUBJECT_ID', 'HADM_ID'], suffixes=('', '_icu'))\n",
        "df = filter_death_in_icu(df)\n",
        "\n",
        "print('ICU post filters: ', len(df['ICUSTAY_ID'].unique())) # compared to 48,393 in the paper"
      ],
      "metadata": {
        "colab": {
          "base_uri": "https://localhost:8080/"
        },
        "id": "hERrBj-5TfFA",
        "outputId": "74416f06-1b83-4c32-f49d-8cf9c7ea7d14"
      },
      "execution_count": null,
      "outputs": [
        {
          "output_type": "stream",
          "name": "stdout",
          "text": [
            "ICU pre filters:  61532\n",
            "ICU post filters:  48886\n"
          ]
        }
      ]
    },
    {
      "cell_type": "code",
      "source": [
        "transfers"
      ],
      "metadata": {
        "colab": {
          "base_uri": "https://localhost:8080/",
          "height": 641
        },
        "id": "H5Ga9bjEa6Bl",
        "outputId": "4f879c21-b5db-4696-a6b9-cffda1ae00b1"
      },
      "execution_count": null,
      "outputs": [
        {
          "output_type": "execute_result",
          "data": {
            "text/plain": [
              "        ROW_ID  SUBJECT_ID  HADM_ID  ICUSTAY_ID    DBSOURCE  EVENTTYPE  \\\n",
              "0          657         111   192123    254245.0     carevue   transfer   \n",
              "1          658         111   192123         NaN     carevue   transfer   \n",
              "2          659         111   192123         NaN     carevue  discharge   \n",
              "3          660         111   155897    249202.0  metavision      admit   \n",
              "4          661         111   155897         NaN  metavision   transfer   \n",
              "...        ...         ...      ...         ...         ...        ...   \n",
              "261892  259671       98385   195599         NaN  metavision   transfer   \n",
              "261893  259672       98385   195599    292167.0  metavision   transfer   \n",
              "261894  259673       98385   195599         NaN  metavision  discharge   \n",
              "261895  259674       98389   155368         NaN  metavision      admit   \n",
              "261896  259675       98389   155368         NaN  metavision   transfer   \n",
              "\n",
              "       PREV_CAREUNIT CURR_CAREUNIT  PREV_WARDID  CURR_WARDID  \\\n",
              "0                CCU          MICU          7.0         23.0   \n",
              "1               MICU           NaN         23.0         45.0   \n",
              "2                NaN           NaN         45.0          NaN   \n",
              "3                NaN          MICU          NaN         52.0   \n",
              "4               MICU           NaN         52.0         32.0   \n",
              "...              ...           ...          ...          ...   \n",
              "261892           NaN           NaN         36.0         49.0   \n",
              "261893           NaN          SICU         49.0         33.0   \n",
              "261894          SICU           NaN         33.0          NaN   \n",
              "261895           NaN           NaN          NaN         29.0   \n",
              "261896           NaN           NaN         29.0         32.0   \n",
              "\n",
              "                    INTIME             OUTTIME     LOS  \n",
              "0      2142-04-29 15:27:11 2142-05-04 20:38:33  125.19  \n",
              "1      2142-05-04 20:38:33 2142-05-05 11:46:32   15.13  \n",
              "2      2142-05-05 11:46:32                 NaT     NaN  \n",
              "3      2144-07-01 04:13:59 2144-07-01 05:19:39    1.09  \n",
              "4      2144-07-01 05:19:39 2144-07-01 06:28:29    1.15  \n",
              "...                    ...                 ...     ...  \n",
              "261892 2108-10-06 11:27:11 2108-10-06 13:05:57    1.65  \n",
              "261893 2108-10-06 13:05:57 2108-10-11 17:00:31  123.91  \n",
              "261894 2108-10-11 17:00:31                 NaT     NaN  \n",
              "261895 2153-10-14 22:12:58 2153-10-14 22:21:06    0.14  \n",
              "261896 2153-10-14 22:21:06 2153-10-14 22:42:32    0.36  \n",
              "\n",
              "[261897 rows x 13 columns]"
            ],
            "text/html": [
              "\n",
              "  <div id=\"df-a6b3e776-8837-4164-9057-28fb740da885\">\n",
              "    <div class=\"colab-df-container\">\n",
              "      <div>\n",
              "<style scoped>\n",
              "    .dataframe tbody tr th:only-of-type {\n",
              "        vertical-align: middle;\n",
              "    }\n",
              "\n",
              "    .dataframe tbody tr th {\n",
              "        vertical-align: top;\n",
              "    }\n",
              "\n",
              "    .dataframe thead th {\n",
              "        text-align: right;\n",
              "    }\n",
              "</style>\n",
              "<table border=\"1\" class=\"dataframe\">\n",
              "  <thead>\n",
              "    <tr style=\"text-align: right;\">\n",
              "      <th></th>\n",
              "      <th>ROW_ID</th>\n",
              "      <th>SUBJECT_ID</th>\n",
              "      <th>HADM_ID</th>\n",
              "      <th>ICUSTAY_ID</th>\n",
              "      <th>DBSOURCE</th>\n",
              "      <th>EVENTTYPE</th>\n",
              "      <th>PREV_CAREUNIT</th>\n",
              "      <th>CURR_CAREUNIT</th>\n",
              "      <th>PREV_WARDID</th>\n",
              "      <th>CURR_WARDID</th>\n",
              "      <th>INTIME</th>\n",
              "      <th>OUTTIME</th>\n",
              "      <th>LOS</th>\n",
              "    </tr>\n",
              "  </thead>\n",
              "  <tbody>\n",
              "    <tr>\n",
              "      <th>0</th>\n",
              "      <td>657</td>\n",
              "      <td>111</td>\n",
              "      <td>192123</td>\n",
              "      <td>254245.0</td>\n",
              "      <td>carevue</td>\n",
              "      <td>transfer</td>\n",
              "      <td>CCU</td>\n",
              "      <td>MICU</td>\n",
              "      <td>7.0</td>\n",
              "      <td>23.0</td>\n",
              "      <td>2142-04-29 15:27:11</td>\n",
              "      <td>2142-05-04 20:38:33</td>\n",
              "      <td>125.19</td>\n",
              "    </tr>\n",
              "    <tr>\n",
              "      <th>1</th>\n",
              "      <td>658</td>\n",
              "      <td>111</td>\n",
              "      <td>192123</td>\n",
              "      <td>NaN</td>\n",
              "      <td>carevue</td>\n",
              "      <td>transfer</td>\n",
              "      <td>MICU</td>\n",
              "      <td>NaN</td>\n",
              "      <td>23.0</td>\n",
              "      <td>45.0</td>\n",
              "      <td>2142-05-04 20:38:33</td>\n",
              "      <td>2142-05-05 11:46:32</td>\n",
              "      <td>15.13</td>\n",
              "    </tr>\n",
              "    <tr>\n",
              "      <th>2</th>\n",
              "      <td>659</td>\n",
              "      <td>111</td>\n",
              "      <td>192123</td>\n",
              "      <td>NaN</td>\n",
              "      <td>carevue</td>\n",
              "      <td>discharge</td>\n",
              "      <td>NaN</td>\n",
              "      <td>NaN</td>\n",
              "      <td>45.0</td>\n",
              "      <td>NaN</td>\n",
              "      <td>2142-05-05 11:46:32</td>\n",
              "      <td>NaT</td>\n",
              "      <td>NaN</td>\n",
              "    </tr>\n",
              "    <tr>\n",
              "      <th>3</th>\n",
              "      <td>660</td>\n",
              "      <td>111</td>\n",
              "      <td>155897</td>\n",
              "      <td>249202.0</td>\n",
              "      <td>metavision</td>\n",
              "      <td>admit</td>\n",
              "      <td>NaN</td>\n",
              "      <td>MICU</td>\n",
              "      <td>NaN</td>\n",
              "      <td>52.0</td>\n",
              "      <td>2144-07-01 04:13:59</td>\n",
              "      <td>2144-07-01 05:19:39</td>\n",
              "      <td>1.09</td>\n",
              "    </tr>\n",
              "    <tr>\n",
              "      <th>4</th>\n",
              "      <td>661</td>\n",
              "      <td>111</td>\n",
              "      <td>155897</td>\n",
              "      <td>NaN</td>\n",
              "      <td>metavision</td>\n",
              "      <td>transfer</td>\n",
              "      <td>MICU</td>\n",
              "      <td>NaN</td>\n",
              "      <td>52.0</td>\n",
              "      <td>32.0</td>\n",
              "      <td>2144-07-01 05:19:39</td>\n",
              "      <td>2144-07-01 06:28:29</td>\n",
              "      <td>1.15</td>\n",
              "    </tr>\n",
              "    <tr>\n",
              "      <th>...</th>\n",
              "      <td>...</td>\n",
              "      <td>...</td>\n",
              "      <td>...</td>\n",
              "      <td>...</td>\n",
              "      <td>...</td>\n",
              "      <td>...</td>\n",
              "      <td>...</td>\n",
              "      <td>...</td>\n",
              "      <td>...</td>\n",
              "      <td>...</td>\n",
              "      <td>...</td>\n",
              "      <td>...</td>\n",
              "      <td>...</td>\n",
              "    </tr>\n",
              "    <tr>\n",
              "      <th>261892</th>\n",
              "      <td>259671</td>\n",
              "      <td>98385</td>\n",
              "      <td>195599</td>\n",
              "      <td>NaN</td>\n",
              "      <td>metavision</td>\n",
              "      <td>transfer</td>\n",
              "      <td>NaN</td>\n",
              "      <td>NaN</td>\n",
              "      <td>36.0</td>\n",
              "      <td>49.0</td>\n",
              "      <td>2108-10-06 11:27:11</td>\n",
              "      <td>2108-10-06 13:05:57</td>\n",
              "      <td>1.65</td>\n",
              "    </tr>\n",
              "    <tr>\n",
              "      <th>261893</th>\n",
              "      <td>259672</td>\n",
              "      <td>98385</td>\n",
              "      <td>195599</td>\n",
              "      <td>292167.0</td>\n",
              "      <td>metavision</td>\n",
              "      <td>transfer</td>\n",
              "      <td>NaN</td>\n",
              "      <td>SICU</td>\n",
              "      <td>49.0</td>\n",
              "      <td>33.0</td>\n",
              "      <td>2108-10-06 13:05:57</td>\n",
              "      <td>2108-10-11 17:00:31</td>\n",
              "      <td>123.91</td>\n",
              "    </tr>\n",
              "    <tr>\n",
              "      <th>261894</th>\n",
              "      <td>259673</td>\n",
              "      <td>98385</td>\n",
              "      <td>195599</td>\n",
              "      <td>NaN</td>\n",
              "      <td>metavision</td>\n",
              "      <td>discharge</td>\n",
              "      <td>SICU</td>\n",
              "      <td>NaN</td>\n",
              "      <td>33.0</td>\n",
              "      <td>NaN</td>\n",
              "      <td>2108-10-11 17:00:31</td>\n",
              "      <td>NaT</td>\n",
              "      <td>NaN</td>\n",
              "    </tr>\n",
              "    <tr>\n",
              "      <th>261895</th>\n",
              "      <td>259674</td>\n",
              "      <td>98389</td>\n",
              "      <td>155368</td>\n",
              "      <td>NaN</td>\n",
              "      <td>metavision</td>\n",
              "      <td>admit</td>\n",
              "      <td>NaN</td>\n",
              "      <td>NaN</td>\n",
              "      <td>NaN</td>\n",
              "      <td>29.0</td>\n",
              "      <td>2153-10-14 22:12:58</td>\n",
              "      <td>2153-10-14 22:21:06</td>\n",
              "      <td>0.14</td>\n",
              "    </tr>\n",
              "    <tr>\n",
              "      <th>261896</th>\n",
              "      <td>259675</td>\n",
              "      <td>98389</td>\n",
              "      <td>155368</td>\n",
              "      <td>NaN</td>\n",
              "      <td>metavision</td>\n",
              "      <td>transfer</td>\n",
              "      <td>NaN</td>\n",
              "      <td>NaN</td>\n",
              "      <td>29.0</td>\n",
              "      <td>32.0</td>\n",
              "      <td>2153-10-14 22:21:06</td>\n",
              "      <td>2153-10-14 22:42:32</td>\n",
              "      <td>0.36</td>\n",
              "    </tr>\n",
              "  </tbody>\n",
              "</table>\n",
              "<p>261897 rows × 13 columns</p>\n",
              "</div>\n",
              "      <button class=\"colab-df-convert\" onclick=\"convertToInteractive('df-a6b3e776-8837-4164-9057-28fb740da885')\"\n",
              "              title=\"Convert this dataframe to an interactive table.\"\n",
              "              style=\"display:none;\">\n",
              "        \n",
              "  <svg xmlns=\"http://www.w3.org/2000/svg\" height=\"24px\"viewBox=\"0 0 24 24\"\n",
              "       width=\"24px\">\n",
              "    <path d=\"M0 0h24v24H0V0z\" fill=\"none\"/>\n",
              "    <path d=\"M18.56 5.44l.94 2.06.94-2.06 2.06-.94-2.06-.94-.94-2.06-.94 2.06-2.06.94zm-11 1L8.5 8.5l.94-2.06 2.06-.94-2.06-.94L8.5 2.5l-.94 2.06-2.06.94zm10 10l.94 2.06.94-2.06 2.06-.94-2.06-.94-.94-2.06-.94 2.06-2.06.94z\"/><path d=\"M17.41 7.96l-1.37-1.37c-.4-.4-.92-.59-1.43-.59-.52 0-1.04.2-1.43.59L10.3 9.45l-7.72 7.72c-.78.78-.78 2.05 0 2.83L4 21.41c.39.39.9.59 1.41.59.51 0 1.02-.2 1.41-.59l7.78-7.78 2.81-2.81c.8-.78.8-2.07 0-2.86zM5.41 20L4 18.59l7.72-7.72 1.47 1.35L5.41 20z\"/>\n",
              "  </svg>\n",
              "      </button>\n",
              "      \n",
              "  <style>\n",
              "    .colab-df-container {\n",
              "      display:flex;\n",
              "      flex-wrap:wrap;\n",
              "      gap: 12px;\n",
              "    }\n",
              "\n",
              "    .colab-df-convert {\n",
              "      background-color: #E8F0FE;\n",
              "      border: none;\n",
              "      border-radius: 50%;\n",
              "      cursor: pointer;\n",
              "      display: none;\n",
              "      fill: #1967D2;\n",
              "      height: 32px;\n",
              "      padding: 0 0 0 0;\n",
              "      width: 32px;\n",
              "    }\n",
              "\n",
              "    .colab-df-convert:hover {\n",
              "      background-color: #E2EBFA;\n",
              "      box-shadow: 0px 1px 2px rgba(60, 64, 67, 0.3), 0px 1px 3px 1px rgba(60, 64, 67, 0.15);\n",
              "      fill: #174EA6;\n",
              "    }\n",
              "\n",
              "    [theme=dark] .colab-df-convert {\n",
              "      background-color: #3B4455;\n",
              "      fill: #D2E3FC;\n",
              "    }\n",
              "\n",
              "    [theme=dark] .colab-df-convert:hover {\n",
              "      background-color: #434B5C;\n",
              "      box-shadow: 0px 1px 3px 1px rgba(0, 0, 0, 0.15);\n",
              "      filter: drop-shadow(0px 1px 2px rgba(0, 0, 0, 0.3));\n",
              "      fill: #FFFFFF;\n",
              "    }\n",
              "  </style>\n",
              "\n",
              "      <script>\n",
              "        const buttonEl =\n",
              "          document.querySelector('#df-a6b3e776-8837-4164-9057-28fb740da885 button.colab-df-convert');\n",
              "        buttonEl.style.display =\n",
              "          google.colab.kernel.accessAllowed ? 'block' : 'none';\n",
              "\n",
              "        async function convertToInteractive(key) {\n",
              "          const element = document.querySelector('#df-a6b3e776-8837-4164-9057-28fb740da885');\n",
              "          const dataTable =\n",
              "            await google.colab.kernel.invokeFunction('convertToInteractive',\n",
              "                                                     [key], {});\n",
              "          if (!dataTable) return;\n",
              "\n",
              "          const docLinkHtml = 'Like what you see? Visit the ' +\n",
              "            '<a target=\"_blank\" href=https://colab.research.google.com/notebooks/data_table.ipynb>data table notebook</a>'\n",
              "            + ' to learn more about interactive tables.';\n",
              "          element.innerHTML = '';\n",
              "          dataTable['output_type'] = 'display_data';\n",
              "          await google.colab.output.renderOutput(dataTable, element);\n",
              "          const docLink = document.createElement('div');\n",
              "          docLink.innerHTML = docLinkHtml;\n",
              "          element.appendChild(docLink);\n",
              "        }\n",
              "      </script>\n",
              "    </div>\n",
              "  </div>\n",
              "  "
            ]
          },
          "metadata": {},
          "execution_count": 45
        }
      ]
    },
    {
      "cell_type": "code",
      "execution_count": null,
      "metadata": {
        "colab": {
          "base_uri": "https://localhost:8080/"
        },
        "id": "DYtdIOjQxquY",
        "outputId": "93cc083f-d22b-4530-d34c-11ee95901715"
      },
      "outputs": [
        {
          "output_type": "execute_result",
          "data": {
            "text/plain": [
              "3636"
            ]
          },
          "metadata": {},
          "execution_count": 44
        }
      ],
      "source": [
        "# case i) patients were transferred to low-level wards from ICU, but returned to ICU again (3,555 records); \n",
        "    #  consecutive ICU stays for same patient/admission where a transfer exists between them with no ICUSTAY_ID that is not a discharge\n",
        "icu_stays['target'] = 0\n",
        "\n",
        "for row in icu_stays[['SUBJECT_ID', 'HADM_ID']].drop_duplicates().iterrows():\n",
        "    row = row[1]\n",
        "    sid, hid = row['SUBJECT_ID'], row['HADM_ID']\n",
        "    stays = icu_stays[(icu_stays['SUBJECT_ID'] == sid) & (icu_stays['HADM_ID'] == hid)][['ICUSTAY_ID', 'OUTTIME', 'INTIME']]\n",
        "    \n",
        "    if stays.shape[0] < 2:  # Ignore if no consecutive ICU stays in visit \n",
        "        continue\n",
        "\n",
        "    stays = stays.sort_values('OUTTIME')\n",
        "    stay_ids = stays['ICUSTAY_ID'].tolist()\n",
        "\n",
        "    # Mask transfers for visit where transfer is not a discharge and no associated ICUSTAY ID - this would imply a transfer not to the ICU\n",
        "    transfer_mask = (transfers['SUBJECT_ID'] == sid) & (transfers['HADM_ID'] == hid) & (transfers['EVENTTYPE'] != 'discharge') & (transfers['ICUSTAY_ID'].isna())\n",
        "\n",
        "    for i, id in enumerate(stay_ids[:-1]): \n",
        "        stay1 = stays[(stays['ICUSTAY_ID'] == stay_ids[i])] # .iloc[0]\n",
        "        stay1 = stay1[stay1['OUTTIME'] == stay1['OUTTIME'].min()].iloc[0]\n",
        "\n",
        "        stay2 = stays[stays['ICUSTAY_ID'] == stay_ids[i+1]] #.iloc[0]\n",
        "        stay2 = stay2[stay2['INTIME'] == stay2['INTIME'].max()].iloc[-1]\n",
        "\n",
        "        # Mask for transfer to lower ward between the current and next ICU stay\n",
        "        ts = transfers[transfer_mask & (transfers['INTIME'] >= stay1['OUTTIME']) & (transfers['OUTTIME'] <= stay2['INTIME'])]\n",
        "        if ts.shape[0] > 0:\n",
        "            # If a transfer is found, mark current ICU stay with true label\n",
        "            icu_stays.loc[icu_stays['ICUSTAY_ID'] == id, 'target'] = 1\n",
        "\n",
        "icu_stays[icu_stays['target'] == 1].shape [0] # 3636 "
      ]
    },
    {
      "cell_type": "code",
      "execution_count": null,
      "metadata": {
        "id": "t5woc-rmzG3U"
      },
      "outputs": [],
      "source": [
        "icu_stays[icu_stays['target'] == 1][['ICUSTAY_ID', 'target']].to_csv(f\"{directory}/icu_labels/case_i_labels.csv\", index=False) # 3636 "
      ]
    },
    {
      "cell_type": "code",
      "execution_count": null,
      "metadata": {
        "colab": {
          "base_uri": "https://localhost:8080/"
        },
        "id": "MtAyGJ0gyX67",
        "outputId": "c448daa9-b82e-40a0-b0a6-f96a183d7ad4"
      },
      "outputs": [
        {
          "output_type": "execute_result",
          "data": {
            "text/plain": [
              "1656"
            ]
          },
          "metadata": {},
          "execution_count": 53
        }
      ],
      "source": [
        "# case ii) patients were transferred to low-level wards from ICU, and died later (1,974 records); \n",
        "    # there exists a transfer (not discharge) after ICU stay to a non-ICU ward, HOSPITAL_EXPIRE_FLAG=1 for admission\n",
        "icu_stays['target'] = 0\n",
        "\n",
        "for row in df[df['HOSPITAL_EXPIRE_FLAG'] == 1][['SUBJECT_ID', 'HADM_ID']].drop_duplicates().iterrows():\n",
        "    row = row[1]\n",
        "    sid, hid = row['SUBJECT_ID'], row['HADM_ID']\n",
        "    stays = df[(df['SUBJECT_ID'] == sid) & (df['HADM_ID'] == hid)][['ICUSTAY_ID', 'OUTTIME', 'INTIME']]\n",
        "    stays = stays.sort_values('OUTTIME')\n",
        "    if stays.empty: \n",
        "        continue\n",
        "    last_stay = stays.iloc[-1]['ICUSTAY_ID']\n",
        "    last_disttime = stays.iloc[-1]['OUTTIME']\n",
        "    # first_stay = stays.iloc[0]['ICUSTAY_ID']\n",
        "    # first_disttime = stays.iloc[0]['OUTTIME']\n",
        "    \n",
        "    transfer_mask = (transfers['SUBJECT_ID'] == sid) & (transfers['HADM_ID'] == hid) & (transfers['EVENTTYPE'] != 'discharge') & (transfers['ICUSTAY_ID'].isna())\n",
        "    \n",
        "    ts = transfers[transfer_mask & (transfers['INTIME'] >= last_disttime)] # 1\n",
        "    # ts = transfers[transfer_mask & (transfers['INTIME'] >= first_disttime)] # 2\n",
        "    if ts.shape[0] > 0: \n",
        "        # print(ts)\n",
        "        icu_stays.loc[icu_stays['ICUSTAY_ID'] == last_stay, 'target'] = 1  # 1\n",
        "        # icu_stays.loc[icu_stays['ICUSTAY_ID'].isin(stays['ICUSTAY_ID']), 'target'] = 1  # 2\n",
        "\n",
        "\n",
        "icu_stays[icu_stays['target'] == 1].shape[0] # 1656"
      ]
    },
    {
      "cell_type": "code",
      "execution_count": null,
      "metadata": {
        "id": "SMRo6shPIIIP"
      },
      "outputs": [],
      "source": [
        "icu_stays[icu_stays['target'] == 1][['ICUSTAY_ID', 'target']].to_csv(f\"{directory}/icu_labels/case_ii_labels.csv\", index=False) # 1656"
      ]
    },
    {
      "cell_type": "code",
      "execution_count": null,
      "metadata": {
        "id": "MajWBtXRycTm"
      },
      "outputs": [],
      "source": [
        "# case iii) patients were discharged, but returned to the ICU within the next 30 days (3,205 records); \n",
        "icu_stays['target'] = 0\n",
        "\n",
        "for sid in df['SUBJECT_ID'].unique():\n",
        "    hadms = df[df['SUBJECT_ID'] == sid][['HADM_ID', 'DISCHTIME']].drop_duplicates().sort_values('DISCHTIME')\n",
        "    if hadms.shape[0] < 2: \n",
        "        continue \n",
        "\n",
        "    hadm_ids = hadms['HADM_ID'].unique().tolist()\n",
        "    for i, hid in enumerate(hadm_ids[:-1]):\n",
        "        icu_ids = df[(df['HADM_ID'] == hid) & (df['SUBJECT_ID'] == sid)]\n",
        "        icu_ids = icu_ids[['DISCHTIME', 'ICUSTAY_ID', 'OUTTIME']]\n",
        "        if icu_ids.empty: \n",
        "            continue\n",
        "\n",
        "        icu_ids = icu_ids.sort_values('OUTTIME') \n",
        "        last_disc =  icu_ids.iloc[-1]['DISCHTIME'] # get discharge time from current admission\n",
        "        last_icu = icu_ids.iloc[-1]['ICUSTAY_ID'] # get last ICU stay from current admission\n",
        "\n",
        "        next_visit = df[(df['SUBJECT_ID'] == sid) & (df['HADM_ID'] == hadm_ids[i+1])].sort_values('INTIME')\n",
        "        next_icu_in = next_visit.iloc[0]['INTIME'] # get ICU in time for next admission\n",
        "\n",
        "        if last_disc + relativedelta(days=30) >= next_icu_in: \n",
        "            icu_stays.loc[icu_stays['ICUSTAY_ID'] == last_icu, 'target'] = 1  # 1\n",
        "        \n",
        "\n",
        "\n",
        "icu_stays[icu_stays['target'] == 1].shape[0] # 2890"
      ]
    },
    {
      "cell_type": "code",
      "execution_count": null,
      "metadata": {
        "id": "qG0HabJYAYUs"
      },
      "outputs": [],
      "source": [
        "# icu_stays[icu_stays['target'] == 1].shape[0]\n",
        "icu_stays[icu_stays['target'] == 1][['ICUSTAY_ID', 'target']].to_csv(f\"{directory}/icu_labels/case_iii_labels.csv\", index=False) "
      ]
    },
    {
      "cell_type": "code",
      "source": [
        "icu_stays['target'] = 0\n",
        "\n",
        "# case iv) patients were discharged and died within the next 30 days \n",
        "\n",
        "for subject_id in df['SUBJECT_ID'].unique(): \n",
        "    admits = patient_admissions[(patient_admissions['SUBJECT_ID'] == subject_id) & ~(patient_admissions['DOD'].isna())]\n",
        "    if admits.empty: \n",
        "        continue\n",
        "\n",
        "    DOD = admits['DOD'].max()\n",
        "    disc_admit = admits[admits['HOSPITAL_EXPIRE_FLAG'] == 0]  # Dont want a DISCHTIME that correspondes to death time\n",
        "    if disc_admit.empty: \n",
        "        continue\n",
        "    DISC = disc_admit['DISCHTIME'].max()\n",
        "    \n",
        "    patient = df[(df['SUBJECT_ID'] == subject_id)]\n",
        "    hadms = patient.sort_values('OUTTIME').drop_duplicates(subset='ICUSTAY_ID', keep='last')\n",
        "    last = hadms.iloc[-1]\n",
        "\n",
        "    if DOD <= (DISC + relativedelta(days=30)):\n",
        "        icu_id = last['ICUSTAY_ID']\n",
        "        icu_stays.loc[icu_stays['ICUSTAY_ID'] == icu_id, 'target'] = 1\n",
        "\n",
        "\n",
        "icu_stays[icu_stays['target'] == 1].shape[0] # 2139\n"
      ],
      "metadata": {
        "id": "UeL6sp2GA5aV"
      },
      "execution_count": null,
      "outputs": []
    },
    {
      "cell_type": "code",
      "source": [
        "# icu_stays[icu_stays['target'] == 1][['ICUSTAY_ID', 'target']].to_csv(f\"{directory}/icu_labels/case_iv_labels.csv\", index=False) "
      ],
      "metadata": {
        "id": "8OU0Xk4ZMInf"
      },
      "execution_count": null,
      "outputs": []
    },
    {
      "cell_type": "code",
      "source": [
        "# compile target vector\n",
        "\n",
        "labels1 = pandas.read_csv(f\"{directory}/icu_labels/case_i_labels.csv\")\n",
        "labels2 = pandas.read_csv(f\"{directory}/icu_labels/case_ii_labels.csv\")\n",
        "labels3 = pandas.read_csv(f\"{directory}/icu_labels/case_iii_labels.csv\")\n",
        "labels4 = pandas.read_csv(f\"{directory}/icu_labels/case_iv_labels.csv\")\n",
        "\n",
        "labels = pandas.concat([labels1, labels2, labels3, labels4])\n",
        "\n",
        "\n",
        "icu_stays['target'] = 0\n",
        "icu_stays.loc[icu_stays['ICUSTAY_ID'].isin(labels['ICUSTAY_ID']), 'target'] = 1"
      ],
      "metadata": {
        "id": "T6GcuRQyMKXF"
      },
      "execution_count": null,
      "outputs": []
    },
    {
      "cell_type": "code",
      "source": [
        "icu_stays['target'].sum()"
      ],
      "metadata": {
        "colab": {
          "base_uri": "https://localhost:8080/"
        },
        "id": "saAjC509O2MF",
        "outputId": "b2a2dca1-1ea1-48a8-d40d-e549bbe321a6"
      },
      "execution_count": null,
      "outputs": [
        {
          "output_type": "execute_result",
          "data": {
            "text/plain": [
              "9438"
            ]
          },
          "metadata": {},
          "execution_count": 75
        }
      ]
    },
    {
      "cell_type": "code",
      "source": [
        "icu_stays[['ICUSTAY_ID', 'target']].to_csv(f\"{directory}/icu_labels/label_vector.csv\", index=False) "
      ],
      "metadata": {
        "id": "MZANspjrNsxL"
      },
      "execution_count": null,
      "outputs": []
    }
  ],
  "metadata": {
    "colab": {
      "machine_shape": "hm",
      "provenance": []
    },
    "gpuClass": "standard",
    "kernelspec": {
      "display_name": "Python 3",
      "name": "python3"
    },
    "language_info": {
      "name": "python"
    }
  },
  "nbformat": 4,
  "nbformat_minor": 0
}