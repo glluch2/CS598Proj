{
  "cells": [
    {
      "cell_type": "code",
      "execution_count": null,
      "metadata": {
        "colab": {
          "base_uri": "https://localhost:8080/"
        },
        "id": "lKGh2wuFWn1h",
        "outputId": "b2904b99-1597-4c3a-a980-3599c0ab01d4"
      },
      "outputs": [
        {
          "name": "stdout",
          "output_type": "stream",
          "text": [
            "Drive already mounted at /content/drive; to attempt to forcibly remount, call drive.mount(\"/content/drive\", force_remount=True).\n"
          ]
        }
      ],
      "source": [
        "\n",
        "from google.colab import drive\n",
        "drive.mount('/content/drive') \n",
        "\n",
        "directory = \"/content/drive/MyDrive/cs598project/data\""
      ]
    },
    {
      "cell_type": "code",
      "execution_count": null,
      "metadata": {
        "id": "Fh8jVH82WuS1"
      },
      "outputs": [],
      "source": [
        "import pandas"
      ]
    },
    {
      "cell_type": "code",
      "execution_count": null,
      "metadata": {
        "id": "f4Z5XUwbfFzf"
      },
      "outputs": [],
      "source": [
        "from datetime import timedelta\n",
        "from tables.description import Time32Col\n",
        "from dateutil.relativedelta import relativedelta\n",
        "\n",
        "\n",
        "# Get last 48 hours of chartevents from ICU stay\n",
        "def get_48(df): \n",
        "    df['CHARTTIME'] = pandas.to_datetime(df['CHARTTIME'])\n",
        "\n",
        "    l = []  \n",
        "    for row in df[['SUBJECT_ID', 'HADM_ID', 'ICUSTAY_ID']].drop_duplicates().iterrows():\n",
        "        row = row[1]\n",
        "        sid = row['SUBJECT_ID']\n",
        "        hid = row['HADM_ID']\n",
        "        iid = row['ICUSTAY_ID']\n",
        "        events = df.query(f'SUBJECT_ID == @sid & HADM_ID == @hid & ICUSTAY_ID == @iid')\n",
        "        max_charttime = events['CHARTTIME'].max()\n",
        "        min_charttime = max_charttime - timedelta(hours=48)\n",
        "        pruned = events[events['CHARTTIME'] >= min_charttime]\n",
        "        l.append(pruned)\n",
        "    return pandas.concat(l)\n"
      ]
    },
    {
      "cell_type": "code",
      "source": [],
      "metadata": {
        "id": "005XUdpUfFum"
      },
      "execution_count": null,
      "outputs": []
    },
    {
      "cell_type": "code",
      "execution_count": null,
      "metadata": {
        "id": "vN1n4Pgmn_-l"
      },
      "outputs": [],
      "source": [
        "# These ITEMIDs correspond chart events of interest described in the paper\n",
        "# e.g (e.g. weight, height, pH, respiratory rate, body temperature, systolic and \n",
        "# diastolic blood pressure, capillary refill rate, Glascow coma eye, verbal and motor response parameters)\n",
        "# We painstakingly collected the codes from the full D_ITEMS list to the best of our ability and matched them to the above\n",
        "\n",
        "items = [226707,\n",
        "3580,\n",
        "3581,\n",
        "228243,\n",
        "220734,\n",
        "220274,\n",
        "223830,\n",
        "4202,\n",
        "618,\n",
        "220210,\n",
        "223761,\n",
        "223762,\n",
        "6,\n",
        "51,\n",
        "442,\n",
        "455,\n",
        "3313,\n",
        "3315,\n",
        "3317,\n",
        "3319,\n",
        "3321,\n",
        "3323,\n",
        "3325,\n",
        "6701,\n",
        "224167,\n",
        "227243,\n",
        "220050,\n",
        "220179,\n",
        "225309,\n",
        "8364,\n",
        "8368,\n",
        "8440,\n",
        "8441,\n",
        "8502,\n",
        "8503,\n",
        "8504,\n",
        "8505,\n",
        "8506,\n",
        "8507,\n",
        "8508,\n",
        "8555,\n",
        "227242,\n",
        "224643,\n",
        "220051,\n",
        "220180,\n",
        "225310,\n",
        "115,\n",
        "3348,\n",
        "8377,\n",
        "223951,\n",
        "224308,\n",
        "184,\n",
        "220739,\n",
        "723,\n",
        "454,\n",
        "223900,\n",
        "223901,\n",
        "226755,\n",
        "226756,\n",
        "226757,\n",
        "226758,\n",
        "227011,\n",
        "227012,\n",
        "227013,\n",
        "227014,\n",
        "1352,\t\n",
        "1880,\t\n",
        "1495,\t\n",
        "7262,\t\n",
        "6754,\t\n",
        "1524,\t\n",
        "220603,\t\n",
        "211,\n",
        "220045,\n",
        "220179,\n",
        "220180,\t\n",
        "220181,\n",
        "]"
      ]
    },
    {
      "cell_type": "code",
      "execution_count": null,
      "metadata": {
        "colab": {
          "base_uri": "https://localhost:8080/"
        },
        "id": "PQli8914W-ym",
        "outputId": "4f2d945f-87ff-4986-9fea-2771e6cb46e4"
      },
      "outputs": [
        {
          "name": "stdout",
          "output_type": "stream",
          "text": [
            "1\n",
            "(3010956, 15)\n",
            "2\n",
            "(2523744, 15)\n",
            "3\n",
            "(462849, 15)\n",
            "4\n",
            "(452921, 15)\n",
            "5\n",
            "(463842, 15)\n",
            "6\n",
            "(466435, 15)\n",
            "7\n",
            "(478495, 15)\n",
            "8\n",
            "(484327, 15)\n",
            "9\n",
            "(495882, 15)\n",
            "10\n",
            "(613325, 15)\n",
            "11\n",
            "(803140, 15)\n",
            "12\n",
            "(849028, 15)\n",
            "13\n",
            "(687340, 15)\n",
            "14\n",
            "(240513, 15)\n",
            "15\n",
            "(252531, 15)\n",
            "16\n",
            "(258522, 15)\n",
            "17\n",
            "(136123, 15)\n"
          ]
        },
        {
          "data": {
            "text/plain": [
              "17"
            ]
          },
          "execution_count": 20,
          "metadata": {},
          "output_type": "execute_result"
        }
      ],
      "source": [
        "# Due to the size of the original CHARTEVENTS table, we processed the file in chunks, filtered time window and item IDS, and resaved for future concatenation\n",
        "i = 0\n",
        "with pandas.read_csv(f\"{directory}/CHARTEVENTS.csv\", chunksize=20000000, low_memory=False) as reader:\n",
        "    for chunk in reader:\n",
        "        i += 1\n",
        "        print(i)\n",
        "        chunk = chunk[chunk['ITEMID'].isin(items)]\n",
        "        chunk = get_48(chunk)\n",
        "        print(chunk.shape)\n",
        "\n",
        "        chunk.to_csv(\n",
        "            f\"{directory}/chartevents_segments_2/pass_1_chunk_{i}.csv\",\n",
        "            index=False\n",
        "            )\n",
        "        \n",
        "i"
      ]
    },
    {
      "cell_type": "code",
      "source": [
        "# This process took multiple passes as we would read in file fragments based on the above, concatenated, applied 48hr window, and resaved\n",
        "# The final pruned chartevents table is saved below and used in our next step.\n",
        "# Chartevent chunks are read in in sections and resaved"
      ],
      "metadata": {
        "id": "wY0_IrLOgO99"
      },
      "execution_count": null,
      "outputs": []
    },
    {
      "cell_type": "code",
      "source": [
        "\n",
        "\n",
        "df = pandas.concat([\n",
        "    pandas.read_csv(f\"{directory}/chartevents_segments/pass_1_chunk_1.csv\", low_memory=False),\n",
        "    pandas.read_csv(f\"{directory}/chartevents_segments/pass_1_chunk_3.csv\", low_memory=False),\n",
        "    pandas.read_csv(f\"{directory}/chartevents_segments/pass_1_chunk_4.csv\", low_memory=False),\n",
        "    pandas.read_csv(f\"{directory}/chartevents_segments/pass_1_chunk_5.csv\", low_memory=False),\n",
        "    pandas.read_csv(f\"{directory}/chartevents_segments/pass_1_chunk_5.csv\", low_memory=False),\n",
        "    pandas.read_csv(f\"{directory}/chartevents_segments/pass_1_chunk_7.csv\", low_memory=False),\n",
        "    pandas.read_csv(f\"{directory}/chartevents_segments/pass_1_chunk_8.csv\", low_memory=False),\n",
        "    pandas.read_csv(f\"{directory}/chartevents_segments/pass_1_chunk_9.csv\", low_memory=False),\n",
        "\n",
        "    ])\n",
        "\n",
        "df = get_48(df)\n",
        "df.to_csv(f\"{directory}/chartevents_segments/pass_2_chunk_1-9.csv\", index=False)"
      ],
      "metadata": {
        "id": "yyxY0Y3wMoVz"
      },
      "execution_count": null,
      "outputs": []
    },
    {
      "cell_type": "code",
      "source": [
        "df = pandas.concat([\n",
        "    pandas.read_csv(f\"{directory}/chartevents_segments/pass_1_chunk_10.csv\", low_memory=False),\n",
        "    pandas.read_csv(f\"{directory}/chartevents_segments/pass_1_chunk_11.csv\", low_memory=False),\n",
        "    pandas.read_csv(f\"{directory}/chartevents_segments/pass_1_chunk_12.csv\", low_memory=False),\n",
        "    pandas.read_csv(f\"{directory}/chartevents_segments/pass_1_chunk_13.csv\", low_memory=False),\n",
        "    pandas.read_csv(f\"{directory}/chartevents_segments/pass_1_chunk_14.csv\", low_memory=False),\n",
        "    pandas.read_csv(f\"{directory}/chartevents_segments/pass_1_chunk_15.csv\", low_memory=False),\n",
        "    pandas.read_csv(f\"{directory}/chartevents_segments/pass_1_chunk_16.csv\", low_memory=False),\n",
        "    pandas.read_csv(f\"{directory}/chartevents_segments/pass_1_chunk_17.csv\", low_memory=False),\n",
        "\n",
        "    ])\n",
        "\n",
        "df = get_48(df)\n",
        "df.to_csv(f\"{directory}/chartevents_segments/pass_2_chunk_10-17.csv\", index=False)"
      ],
      "metadata": {
        "id": "JFhkZFdQN4Jx"
      },
      "execution_count": null,
      "outputs": []
    },
    {
      "cell_type": "code",
      "execution_count": null,
      "metadata": {
        "id": "V4wvjAmaohwr"
      },
      "outputs": [],
      "source": [
        "df1 = pandas.read_csv(f\"{directory}/chartevents_segments/pass_2_chunk_1-9.csv\", low_memory=False)\n",
        "df2 = pandas.read_csv(f\"{directory}/chartevents_segments/pass_2_chunk_10-17.csv\", low_memory=False)\n",
        "df = pandas.concat([df1, df2])\n",
        "df = get_48(df)"
      ]
    },
    {
      "cell_type": "code",
      "execution_count": null,
      "metadata": {
        "id": "z58gE9wS4ik9"
      },
      "outputs": [],
      "source": [
        "# Final pruned chartevents is saved\n",
        "df.to_csv(f\"{directory}/chartevents_pruned.csv\", index=False)"
      ]
    },
    {
      "cell_type": "markdown",
      "metadata": {
        "id": "aYT9zLqr6vfn"
      },
      "source": []
    }
  ],
  "metadata": {
    "colab": {
      "machine_shape": "hm",
      "provenance": []
    },
    "gpuClass": "standard",
    "kernelspec": {
      "display_name": "Python 3",
      "name": "python3"
    },
    "language_info": {
      "name": "python"
    }
  },
  "nbformat": 4,
  "nbformat_minor": 0
}